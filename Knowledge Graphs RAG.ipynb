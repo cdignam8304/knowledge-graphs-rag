{
 "cells": [
  {
   "cell_type": "markdown",
   "id": "92896b7b",
   "metadata": {},
   "source": [
    "## Libraries"
   ]
  },
  {
   "cell_type": "code",
   "execution_count": 1,
   "id": "c989f494",
   "metadata": {},
   "outputs": [],
   "source": [
    "from dotenv import load_dotenv\n",
    "import os\n",
    "\n",
    "from langchain_community.graphs import Neo4jGraph\n",
    "\n",
    "import warnings\n",
    "warnings.filterwarnings('ignore')"
   ]
  },
  {
   "cell_type": "markdown",
   "id": "41357e07",
   "metadata": {},
   "source": [
    "## Connect to resources"
   ]
  },
  {
   "cell_type": "markdown",
   "id": "11f1228f",
   "metadata": {},
   "source": [
    "### Neo4j"
   ]
  },
  {
   "cell_type": "code",
   "execution_count": 2,
   "id": "fb1504fc",
   "metadata": {},
   "outputs": [
    {
     "name": "stdout",
     "output_type": "stream",
     "text": [
      "NEO4J_URI: bolt://localhost:7687\n",
      "NEO4J_USERNAME: neo4j\n",
      "NEO4J_PASSWORD: mymovies\n",
      "NEO4J_DATABASE: neo4j\n"
     ]
    }
   ],
   "source": [
    "# Open the file and read the lines\n",
    "with open('neo4j_connection_details.txt', 'r') as file:\n",
    "    lines = file.readlines()\n",
    "\n",
    "# Initialize variables\n",
    "neo4j_uri = \"\"\n",
    "neo4j_username = \"\"\n",
    "neo4j_password = \"\"\n",
    "neo4j_database=\"\"\n",
    "\n",
    "# Process each line to extract the values\n",
    "for line in lines:\n",
    "    # Remove any leading/trailing whitespace\n",
    "    line = line.strip()\n",
    "    if line.startswith(\"NEO4J_URI\"):\n",
    "        # Extract the URI\n",
    "        neo4j_uri = line.split('=')[1].strip().strip('\"')\n",
    "    elif line.startswith(\"NEO4J_USERNAME\"):\n",
    "        # Extract the username\n",
    "        neo4j_username = line.split('=')[1].strip().strip('\"')\n",
    "    elif line.startswith(\"NEO4J_PASSWORD\"):\n",
    "        # Extract the password\n",
    "        neo4j_password = line.split('=')[1].strip().strip('\"')\n",
    "    # Open the file and read the lines\n",
    "with open('neo4j_connection_details.txt', 'r') as file:\n",
    "    lines = file.readlines()\n",
    "\n",
    "# Initialize variables\n",
    "neo4j_uri = \"\"\n",
    "neo4j_username = \"\"\n",
    "neo4j_password = \"\"\n",
    "neo4j_database=\"\"\n",
    "\n",
    "# Process each line to extract the values\n",
    "for line in lines:\n",
    "    # Remove any leading/trailing whitespace\n",
    "    line = line.strip()\n",
    "    if line.startswith(\"NEO4J_URI\"):\n",
    "        # Extract the URI\n",
    "        neo4j_uri = line.split('=')[1].strip().strip('\"')\n",
    "    elif line.startswith(\"NEO4J_USERNAME\"):\n",
    "        # Extract the username\n",
    "        neo4j_username = line.split('=')[1].strip().strip('\"')\n",
    "    elif line.startswith(\"NEO4J_PASSWORD\"):\n",
    "        # Extract the password\n",
    "        neo4j_password = line.split('=')[1].strip().strip('\"')\n",
    "    elif line.startswith(\"NEO4J_DATABASE\"):\n",
    "        # Extract the password\n",
    "        neo4j_database = line.split('=')[1].strip().strip('\"')\n",
    "\n",
    "# Display the extracted values\n",
    "print(f\"NEO4J_URI: {neo4j_uri}\")\n",
    "print(f\"NEO4J_USERNAME: {neo4j_username}\")\n",
    "print(f\"NEO4J_PASSWORD: {neo4j_password}\")\n",
    "print(f\"NEO4J_DATABASE: {neo4j_database}\")\n",
    "\n"
   ]
  },
  {
   "cell_type": "code",
   "execution_count": 3,
   "id": "1e85ecc0",
   "metadata": {},
   "outputs": [],
   "source": [
    "kg = Neo4jGraph(\n",
    "    url=neo4j_uri,\n",
    "    username=neo4j_username,\n",
    "    password=neo4j_password,\n",
    "    database=neo4j_database,\n",
    ")"
   ]
  },
  {
   "cell_type": "code",
   "execution_count": 4,
   "id": "2af3f7dd",
   "metadata": {},
   "outputs": [
    {
     "name": "stdout",
     "output_type": "stream",
     "text": [
      "<langchain_community.graphs.neo4j_graph.Neo4jGraph object at 0x111b0e9d0>\n"
     ]
    }
   ],
   "source": [
    "print(kg)"
   ]
  },
  {
   "cell_type": "code",
   "execution_count": 7,
   "id": "d37acb59",
   "metadata": {},
   "outputs": [],
   "source": [
    "get_all_nodes = \"\"\"\n",
    "MATCH (n:Person) RETURN n.name;\n",
    "\"\"\""
   ]
  },
  {
   "cell_type": "code",
   "execution_count": 8,
   "id": "40593287",
   "metadata": {
    "scrolled": true
   },
   "outputs": [
    {
     "data": {
      "text/plain": [
       "[{'n.name': 'Keanu Reeves'},\n",
       " {'n.name': 'Carrie-Anne Moss'},\n",
       " {'n.name': 'Laurence Fishburne'},\n",
       " {'n.name': 'Hugo Weaving'},\n",
       " {'n.name': 'Andy Wachowski'},\n",
       " {'n.name': 'Lana Wachowski'},\n",
       " {'n.name': 'Joel Silver'},\n",
       " {'n.name': 'Emil Eifrem'},\n",
       " {'n.name': 'Charlize Theron'},\n",
       " {'n.name': 'Al Pacino'},\n",
       " {'n.name': 'Taylor Hackford'},\n",
       " {'n.name': 'Tom Cruise'},\n",
       " {'n.name': 'Jack Nicholson'},\n",
       " {'n.name': 'Demi Moore'},\n",
       " {'n.name': 'Kevin Bacon'},\n",
       " {'n.name': 'Kiefer Sutherland'},\n",
       " {'n.name': 'Noah Wyle'},\n",
       " {'n.name': 'Cuba Gooding Jr.'},\n",
       " {'n.name': 'Kevin Pollak'},\n",
       " {'n.name': 'J.T. Walsh'},\n",
       " {'n.name': 'James Marshall'},\n",
       " {'n.name': 'Christopher Guest'},\n",
       " {'n.name': 'Rob Reiner'},\n",
       " {'n.name': 'Aaron Sorkin'},\n",
       " {'n.name': 'Kelly McGillis'},\n",
       " {'n.name': 'Val Kilmer'},\n",
       " {'n.name': 'Anthony Edwards'},\n",
       " {'n.name': 'Tom Skerritt'},\n",
       " {'n.name': 'Meg Ryan'},\n",
       " {'n.name': 'Tony Scott'},\n",
       " {'n.name': 'Jim Cash'},\n",
       " {'n.name': 'Renee Zellweger'},\n",
       " {'n.name': 'Kelly Preston'},\n",
       " {'n.name': \"Jerry O'Connell\"},\n",
       " {'n.name': 'Jay Mohr'},\n",
       " {'n.name': 'Bonnie Hunt'},\n",
       " {'n.name': 'Regina King'},\n",
       " {'n.name': 'Jonathan Lipnicki'},\n",
       " {'n.name': 'Cameron Crowe'},\n",
       " {'n.name': 'River Phoenix'},\n",
       " {'n.name': 'Corey Feldman'},\n",
       " {'n.name': 'Wil Wheaton'},\n",
       " {'n.name': 'John Cusack'},\n",
       " {'n.name': 'Marshall Bell'},\n",
       " {'n.name': 'Helen Hunt'},\n",
       " {'n.name': 'Greg Kinnear'},\n",
       " {'n.name': 'James L. Brooks'},\n",
       " {'n.name': 'Annabella Sciorra'},\n",
       " {'n.name': 'Max von Sydow'},\n",
       " {'n.name': 'Werner Herzog'},\n",
       " {'n.name': 'Robin Williams'},\n",
       " {'n.name': 'Vincent Ward'},\n",
       " {'n.name': 'Ethan Hawke'},\n",
       " {'n.name': 'Rick Yune'},\n",
       " {'n.name': 'James Cromwell'},\n",
       " {'n.name': 'Scott Hicks'},\n",
       " {'n.name': 'Parker Posey'},\n",
       " {'n.name': 'Dave Chappelle'},\n",
       " {'n.name': 'Steve Zahn'},\n",
       " {'n.name': 'Tom Hanks'},\n",
       " {'n.name': 'Nora Ephron'},\n",
       " {'n.name': 'Rita Wilson'},\n",
       " {'n.name': 'Bill Pullman'},\n",
       " {'n.name': 'Victor Garber'},\n",
       " {'n.name': \"Rosie O'Donnell\"},\n",
       " {'n.name': 'John Patrick Stanley'},\n",
       " {'n.name': 'Nathan Lane'},\n",
       " {'n.name': 'Billy Crystal'},\n",
       " {'n.name': 'Carrie Fisher'},\n",
       " {'n.name': 'Bruno Kirby'},\n",
       " {'n.name': 'Liv Tyler'},\n",
       " {'n.name': 'Brooke Langton'},\n",
       " {'n.name': 'Gene Hackman'},\n",
       " {'n.name': 'Orlando Jones'},\n",
       " {'n.name': 'Howard Deutch'},\n",
       " {'n.name': 'Christian Bale'},\n",
       " {'n.name': 'Zach Grenier'},\n",
       " {'n.name': 'Mike Nichols'},\n",
       " {'n.name': 'Richard Harris'},\n",
       " {'n.name': 'Clint Eastwood'},\n",
       " {'n.name': 'Takeshi Kitano'},\n",
       " {'n.name': 'Dina Meyer'},\n",
       " {'n.name': 'Ice-T'},\n",
       " {'n.name': 'Robert Longo'},\n",
       " {'n.name': 'Halle Berry'},\n",
       " {'n.name': 'Jim Broadbent'},\n",
       " {'n.name': 'Tom Tykwer'},\n",
       " {'n.name': 'Ian McKellen'},\n",
       " {'n.name': 'Audrey Tautou'},\n",
       " {'n.name': 'Paul Bettany'},\n",
       " {'n.name': 'Ron Howard'},\n",
       " {'n.name': 'Natalie Portman'},\n",
       " {'n.name': 'Stephen Rea'},\n",
       " {'n.name': 'John Hurt'},\n",
       " {'n.name': 'Ben Miles'},\n",
       " {'n.name': 'Emile Hirsch'},\n",
       " {'n.name': 'John Goodman'},\n",
       " {'n.name': 'Susan Sarandon'},\n",
       " {'n.name': 'Matthew Fox'},\n",
       " {'n.name': 'Christina Ricci'},\n",
       " {'n.name': 'Rain'},\n",
       " {'n.name': 'Naomie Harris'},\n",
       " {'n.name': 'Michael Clarke Duncan'},\n",
       " {'n.name': 'David Morse'},\n",
       " {'n.name': 'Sam Rockwell'},\n",
       " {'n.name': 'Gary Sinise'},\n",
       " {'n.name': 'Patricia Clarkson'},\n",
       " {'n.name': 'Frank Darabont'},\n",
       " {'n.name': 'Frank Langella'},\n",
       " {'n.name': 'Michael Sheen'},\n",
       " {'n.name': 'Oliver Platt'},\n",
       " {'n.name': 'Danny DeVito'},\n",
       " {'n.name': 'John C. Reilly'},\n",
       " {'n.name': 'Ed Harris'},\n",
       " {'n.name': 'Bill Paxton'},\n",
       " {'n.name': 'Philip Seymour Hoffman'},\n",
       " {'n.name': 'Jan de Bont'},\n",
       " {'n.name': 'Robert Zemeckis'},\n",
       " {'n.name': 'Milos Forman'},\n",
       " {'n.name': 'Diane Keaton'},\n",
       " {'n.name': 'Nancy Meyers'},\n",
       " {'n.name': 'Chris Columbus'},\n",
       " {'n.name': 'Julia Roberts'},\n",
       " {'n.name': 'Madonna'},\n",
       " {'n.name': 'Geena Davis'},\n",
       " {'n.name': 'Lori Petty'},\n",
       " {'n.name': 'Penny Marshall'},\n",
       " {'n.name': 'Paul Blythe'},\n",
       " {'n.name': 'Angela Scope'},\n",
       " {'n.name': 'Jessica Thompson'},\n",
       " {'n.name': 'James Thompson'},\n",
       " {'n.name': 'Kang-ho Song'},\n",
       " {'n.name': 'Sun-kyun Lee'},\n",
       " {'n.name': 'Yeo-jeong Jo'},\n",
       " {'n.name': 'Woo-sik Choi'},\n",
       " {'n.name': 'So-dam Park'},\n",
       " {'n.name': 'Joaquin Phoenix'},\n",
       " {'n.name': 'Robert De Niro'},\n",
       " {'n.name': 'Zazie Beetz'}]"
      ]
     },
     "execution_count": 8,
     "metadata": {},
     "output_type": "execute_result"
    }
   ],
   "source": [
    "kg.query(get_all_nodes)"
   ]
  },
  {
   "cell_type": "code",
   "execution_count": 9,
   "id": "f823ecaa",
   "metadata": {},
   "outputs": [],
   "source": [
    "get_all_nodes = \"\"\"\n",
    "MATCH (n:Movie) RETURN n.title;\n",
    "\"\"\""
   ]
  },
  {
   "cell_type": "code",
   "execution_count": 10,
   "id": "843bc5c9",
   "metadata": {
    "scrolled": true
   },
   "outputs": [
    {
     "data": {
      "text/plain": [
       "[{'n.title': 'The Matrix'},\n",
       " {'n.title': 'The Matrix Reloaded'},\n",
       " {'n.title': 'The Matrix Revolutions'},\n",
       " {'n.title': \"The Devil's Advocate\"},\n",
       " {'n.title': 'A Few Good Men'},\n",
       " {'n.title': 'Top Gun'},\n",
       " {'n.title': 'Jerry Maguire'},\n",
       " {'n.title': 'Stand By Me'},\n",
       " {'n.title': 'As Good as It Gets'},\n",
       " {'n.title': 'What Dreams May Come'},\n",
       " {'n.title': 'Snow Falling on Cedars'},\n",
       " {'n.title': \"You've Got Mail\"},\n",
       " {'n.title': 'Sleepless in Seattle'},\n",
       " {'n.title': 'Joe Versus the Volcano'},\n",
       " {'n.title': 'When Harry Met Sally'},\n",
       " {'n.title': 'That Thing You Do'},\n",
       " {'n.title': 'The Replacements'},\n",
       " {'n.title': 'RescueDawn'},\n",
       " {'n.title': 'The Birdcage'},\n",
       " {'n.title': 'Unforgiven'},\n",
       " {'n.title': 'Johnny Mnemonic'},\n",
       " {'n.title': 'Cloud Atlas'},\n",
       " {'n.title': 'The Da Vinci Code'},\n",
       " {'n.title': 'V for Vendetta'},\n",
       " {'n.title': 'Speed Racer'},\n",
       " {'n.title': 'Ninja Assassin'},\n",
       " {'n.title': 'The Green Mile'},\n",
       " {'n.title': 'Frost/Nixon'},\n",
       " {'n.title': 'Hoffa'},\n",
       " {'n.title': 'Apollo 13'},\n",
       " {'n.title': 'Twister'},\n",
       " {'n.title': 'Cast Away'},\n",
       " {'n.title': \"One Flew Over the Cuckoo's Nest\"},\n",
       " {'n.title': \"Something's Gotta Give\"},\n",
       " {'n.title': 'Bicentennial Man'},\n",
       " {'n.title': \"Charlie Wilson's War\"},\n",
       " {'n.title': 'The Polar Express'},\n",
       " {'n.title': 'A League of Their Own'},\n",
       " {'n.title': 'Parasite'},\n",
       " {'n.title': 'Joker'}]"
      ]
     },
     "execution_count": 10,
     "metadata": {},
     "output_type": "execute_result"
    }
   ],
   "source": [
    "kg.query(get_all_nodes)"
   ]
  },
  {
   "cell_type": "markdown",
   "id": "25436487",
   "metadata": {},
   "source": [
    "### OpenAI api"
   ]
  },
  {
   "cell_type": "code",
   "execution_count": 3,
   "id": "c6159a4c",
   "metadata": {},
   "outputs": [],
   "source": [
    "# Open the file and read the first line\n",
    "with open('openai_api_key.txt', 'r') as file:\n",
    "    # Read the first line and strip any leading/trailing whitespace\n",
    "    openai_api_key = file.readline().strip()\n",
    "\n",
    "# Save the value to the variable OPENAI_API_KEY\n",
    "OPENAI_API_KEY = openai_api_key\n",
    "\n",
    "# Display the extracted API key (optional, for verification)\n",
    "# print(f\"OPENAI_API_KEY: {OPENAI_API_KEY}\")\n"
   ]
  },
  {
   "cell_type": "code",
   "execution_count": null,
   "id": "22ce2588",
   "metadata": {},
   "outputs": [],
   "source": []
  }
 ],
 "metadata": {
  "kernelspec": {
   "display_name": "Python 3 (ipykernel)",
   "language": "python",
   "name": "python3"
  },
  "language_info": {
   "codemirror_mode": {
    "name": "ipython",
    "version": 3
   },
   "file_extension": ".py",
   "mimetype": "text/x-python",
   "name": "python",
   "nbconvert_exporter": "python",
   "pygments_lexer": "ipython3",
   "version": "3.11.6"
  }
 },
 "nbformat": 4,
 "nbformat_minor": 5
}
