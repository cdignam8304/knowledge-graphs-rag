{
 "cells": [
  {
   "cell_type": "markdown",
   "id": "92896b7b",
   "metadata": {},
   "source": [
    "## Libraries"
   ]
  },
  {
   "cell_type": "code",
   "execution_count": 8,
   "id": "c989f494",
   "metadata": {},
   "outputs": [],
   "source": [
    "# Library imports per tutorial\n",
    "from dotenv import load_dotenv\n",
    "import os\n",
    "\n",
    "from langchain_community.graphs import Neo4jGraph\n",
    "\n",
    "import warnings\n",
    "warnings.filterwarnings('ignore')"
   ]
  },
  {
   "cell_type": "code",
   "execution_count": 18,
   "id": "c15b82fa",
   "metadata": {},
   "outputs": [],
   "source": [
    "# Additional libraries to circumnavigate genai plugin unavailability except\n",
    "# in Neo4j enterprise edition, which are required to generate the\n",
    "# embeddings.\n",
    "from openai import OpenAI\n",
    "from neo4j import GraphDatabase"
   ]
  },
  {
   "cell_type": "markdown",
   "id": "41357e07",
   "metadata": {},
   "source": [
    "## Connect to resources"
   ]
  },
  {
   "cell_type": "markdown",
   "id": "11f1228f",
   "metadata": {},
   "source": [
    "### Neo4j"
   ]
  },
  {
   "cell_type": "code",
   "execution_count": 2,
   "id": "fb1504fc",
   "metadata": {},
   "outputs": [],
   "source": [
    "# Open the file and read the lines\n",
    "with open('neo4j_connection_details.txt', 'r') as file:\n",
    "    lines = file.readlines()\n",
    "\n",
    "# Initialize variables\n",
    "neo4j_uri = \"\"\n",
    "neo4j_username = \"\"\n",
    "neo4j_password = \"\"\n",
    "neo4j_database=\"\"\n",
    "\n",
    "# Process each line to extract the values\n",
    "for line in lines:\n",
    "    # Remove any leading/trailing whitespace\n",
    "    line = line.strip()\n",
    "    if line.startswith(\"NEO4J_URI\"):\n",
    "        # Extract the URI\n",
    "        neo4j_uri = line.split('=')[1].strip().strip('\"')\n",
    "    elif line.startswith(\"NEO4J_USERNAME\"):\n",
    "        # Extract the username\n",
    "        neo4j_username = line.split('=')[1].strip().strip('\"')\n",
    "    elif line.startswith(\"NEO4J_PASSWORD\"):\n",
    "        # Extract the password\n",
    "        neo4j_password = line.split('=')[1].strip().strip('\"')\n",
    "    # Open the file and read the lines\n",
    "with open('neo4j_connection_details.txt', 'r') as file:\n",
    "    lines = file.readlines()\n",
    "\n",
    "# Initialize variables\n",
    "neo4j_uri = \"\"\n",
    "neo4j_username = \"\"\n",
    "neo4j_password = \"\"\n",
    "neo4j_database=\"\"\n",
    "\n",
    "# Process each line to extract the values\n",
    "for line in lines:\n",
    "    # Remove any leading/trailing whitespace\n",
    "    line = line.strip()\n",
    "    if line.startswith(\"NEO4J_URI\"):\n",
    "        # Extract the URI\n",
    "        neo4j_uri = line.split('=')[1].strip().strip('\"')\n",
    "    elif line.startswith(\"NEO4J_USERNAME\"):\n",
    "        # Extract the username\n",
    "        neo4j_username = line.split('=')[1].strip().strip('\"')\n",
    "    elif line.startswith(\"NEO4J_PASSWORD\"):\n",
    "        # Extract the password\n",
    "        neo4j_password = line.split('=')[1].strip().strip('\"')\n",
    "    elif line.startswith(\"NEO4J_DATABASE\"):\n",
    "        # Extract the password\n",
    "        neo4j_database = line.split('=')[1].strip().strip('\"')\n",
    "\n",
    "# Display the extracted values\n",
    "# print(f\"NEO4J_URI: {neo4j_uri}\")\n",
    "# print(f\"NEO4J_USERNAME: {neo4j_username}\")\n",
    "# print(f\"NEO4J_PASSWORD: {neo4j_password}\")\n",
    "# print(f\"NEO4J_DATABASE: {neo4j_database}\")\n",
    "\n"
   ]
  },
  {
   "cell_type": "code",
   "execution_count": 3,
   "id": "1e85ecc0",
   "metadata": {},
   "outputs": [],
   "source": [
    "# Connect to the knowledge graph in Neo4j\n",
    "kg = Neo4jGraph(\n",
    "    url=neo4j_uri,\n",
    "    username=neo4j_username,\n",
    "    password=neo4j_password,\n",
    "    database=neo4j_database,\n",
    ")"
   ]
  },
  {
   "cell_type": "code",
   "execution_count": 4,
   "id": "2a2b7a9e",
   "metadata": {},
   "outputs": [
    {
     "name": "stdout",
     "output_type": "stream",
     "text": [
      "<langchain_community.graphs.neo4j_graph.Neo4jGraph object at 0x106f8edd0>\n"
     ]
    }
   ],
   "source": [
    "print(kg)"
   ]
  },
  {
   "cell_type": "code",
   "execution_count": 79,
   "id": "c43bebec",
   "metadata": {},
   "outputs": [
    {
     "name": "stdout",
     "output_type": "stream",
     "text": [
      "Node properties:\n",
      "Movie {title: STRING, tagline: STRING, released: INTEGER}\n",
      "Person {born: INTEGER, name: STRING}\n",
      "Relationship properties:\n",
      "ACTED_IN {roles: LIST}\n",
      "REVIEWED {summary: STRING, rating: INTEGER}\n",
      "The relationships:\n",
      "(:Person)-[:ACTED_IN]->(:Movie)\n",
      "(:Person)-[:WROTE]->(:Movie)\n",
      "(:Person)-[:DIRECTED]->(:Movie)\n",
      "(:Person)-[:PRODUCED]->(:Movie)\n",
      "(:Person)-[:FOLLOWS]->(:Person)\n",
      "(:Person)-[:REVIEWED]->(:Movie)\n",
      "(:Person)-[:WORKS_WITH]->(:Person)\n"
     ]
    }
   ],
   "source": [
    "print(kg.schema)"
   ]
  },
  {
   "cell_type": "code",
   "execution_count": 71,
   "id": "6263d98b",
   "metadata": {},
   "outputs": [],
   "source": [
    "count_people = \"\"\"\n",
    "MATCH (n:Person) RETURN count(n) AS numberOfPeople\n",
    "\"\"\""
   ]
  },
  {
   "cell_type": "code",
   "execution_count": 20,
   "id": "43c6389f",
   "metadata": {},
   "outputs": [
    {
     "data": {
      "text/plain": [
       "[{'numberOfPeople': 139}]"
      ]
     },
     "execution_count": 20,
     "metadata": {},
     "output_type": "execute_result"
    }
   ],
   "source": [
    "kg.query(count_people)"
   ]
  },
  {
   "cell_type": "code",
   "execution_count": 22,
   "id": "0da5bf95",
   "metadata": {},
   "outputs": [
    {
     "name": "stdout",
     "output_type": "stream",
     "text": [
      "There are 139 people in this graph.\n"
     ]
    }
   ],
   "source": [
    "print(f\"There are {kg.query(count_people)[0]['numberOfPeople']} people in this graph.\")"
   ]
  },
  {
   "cell_type": "code",
   "execution_count": 11,
   "id": "d37acb59",
   "metadata": {},
   "outputs": [],
   "source": [
    "get_people = \"\"\"\n",
    "MATCH (n:Person) RETURN n.name;\n",
    "\"\"\""
   ]
  },
  {
   "cell_type": "code",
   "execution_count": 12,
   "id": "40593287",
   "metadata": {
    "scrolled": true
   },
   "outputs": [
    {
     "data": {
      "text/plain": [
       "[{'n.name': 'Keanu Reeves'},\n",
       " {'n.name': 'Carrie-Anne Moss'},\n",
       " {'n.name': 'Laurence Fishburne'},\n",
       " {'n.name': 'Hugo Weaving'},\n",
       " {'n.name': 'Andy Wachowski'},\n",
       " {'n.name': 'Lana Wachowski'},\n",
       " {'n.name': 'Joel Silver'},\n",
       " {'n.name': 'Emil Eifrem'},\n",
       " {'n.name': 'Charlize Theron'},\n",
       " {'n.name': 'Al Pacino'},\n",
       " {'n.name': 'Taylor Hackford'},\n",
       " {'n.name': 'Tom Cruise'},\n",
       " {'n.name': 'Jack Nicholson'},\n",
       " {'n.name': 'Demi Moore'},\n",
       " {'n.name': 'Kevin Bacon'},\n",
       " {'n.name': 'Kiefer Sutherland'},\n",
       " {'n.name': 'Noah Wyle'},\n",
       " {'n.name': 'Cuba Gooding Jr.'},\n",
       " {'n.name': 'Kevin Pollak'},\n",
       " {'n.name': 'J.T. Walsh'},\n",
       " {'n.name': 'James Marshall'},\n",
       " {'n.name': 'Christopher Guest'},\n",
       " {'n.name': 'Rob Reiner'},\n",
       " {'n.name': 'Aaron Sorkin'},\n",
       " {'n.name': 'Kelly McGillis'},\n",
       " {'n.name': 'Val Kilmer'},\n",
       " {'n.name': 'Anthony Edwards'},\n",
       " {'n.name': 'Tom Skerritt'},\n",
       " {'n.name': 'Meg Ryan'},\n",
       " {'n.name': 'Tony Scott'},\n",
       " {'n.name': 'Jim Cash'},\n",
       " {'n.name': 'Renee Zellweger'},\n",
       " {'n.name': 'Kelly Preston'},\n",
       " {'n.name': \"Jerry O'Connell\"},\n",
       " {'n.name': 'Jay Mohr'},\n",
       " {'n.name': 'Bonnie Hunt'},\n",
       " {'n.name': 'Regina King'},\n",
       " {'n.name': 'Jonathan Lipnicki'},\n",
       " {'n.name': 'Cameron Crowe'},\n",
       " {'n.name': 'River Phoenix'},\n",
       " {'n.name': 'Corey Feldman'},\n",
       " {'n.name': 'Wil Wheaton'},\n",
       " {'n.name': 'John Cusack'},\n",
       " {'n.name': 'Marshall Bell'},\n",
       " {'n.name': 'Helen Hunt'},\n",
       " {'n.name': 'Greg Kinnear'},\n",
       " {'n.name': 'James L. Brooks'},\n",
       " {'n.name': 'Annabella Sciorra'},\n",
       " {'n.name': 'Max von Sydow'},\n",
       " {'n.name': 'Werner Herzog'},\n",
       " {'n.name': 'Robin Williams'},\n",
       " {'n.name': 'Vincent Ward'},\n",
       " {'n.name': 'Ethan Hawke'},\n",
       " {'n.name': 'Rick Yune'},\n",
       " {'n.name': 'James Cromwell'},\n",
       " {'n.name': 'Scott Hicks'},\n",
       " {'n.name': 'Parker Posey'},\n",
       " {'n.name': 'Dave Chappelle'},\n",
       " {'n.name': 'Steve Zahn'},\n",
       " {'n.name': 'Tom Hanks'},\n",
       " {'n.name': 'Nora Ephron'},\n",
       " {'n.name': 'Rita Wilson'},\n",
       " {'n.name': 'Bill Pullman'},\n",
       " {'n.name': 'Victor Garber'},\n",
       " {'n.name': \"Rosie O'Donnell\"},\n",
       " {'n.name': 'John Patrick Stanley'},\n",
       " {'n.name': 'Nathan Lane'},\n",
       " {'n.name': 'Billy Crystal'},\n",
       " {'n.name': 'Carrie Fisher'},\n",
       " {'n.name': 'Bruno Kirby'},\n",
       " {'n.name': 'Liv Tyler'},\n",
       " {'n.name': 'Brooke Langton'},\n",
       " {'n.name': 'Gene Hackman'},\n",
       " {'n.name': 'Orlando Jones'},\n",
       " {'n.name': 'Howard Deutch'},\n",
       " {'n.name': 'Christian Bale'},\n",
       " {'n.name': 'Zach Grenier'},\n",
       " {'n.name': 'Mike Nichols'},\n",
       " {'n.name': 'Richard Harris'},\n",
       " {'n.name': 'Clint Eastwood'},\n",
       " {'n.name': 'Takeshi Kitano'},\n",
       " {'n.name': 'Dina Meyer'},\n",
       " {'n.name': 'Ice-T'},\n",
       " {'n.name': 'Robert Longo'},\n",
       " {'n.name': 'Halle Berry'},\n",
       " {'n.name': 'Jim Broadbent'},\n",
       " {'n.name': 'Tom Tykwer'},\n",
       " {'n.name': 'Ian McKellen'},\n",
       " {'n.name': 'Audrey Tautou'},\n",
       " {'n.name': 'Paul Bettany'},\n",
       " {'n.name': 'Ron Howard'},\n",
       " {'n.name': 'Natalie Portman'},\n",
       " {'n.name': 'Stephen Rea'},\n",
       " {'n.name': 'John Hurt'},\n",
       " {'n.name': 'Ben Miles'},\n",
       " {'n.name': 'Emile Hirsch'},\n",
       " {'n.name': 'John Goodman'},\n",
       " {'n.name': 'Susan Sarandon'},\n",
       " {'n.name': 'Matthew Fox'},\n",
       " {'n.name': 'Christina Ricci'},\n",
       " {'n.name': 'Rain'},\n",
       " {'n.name': 'Naomie Harris'},\n",
       " {'n.name': 'Michael Clarke Duncan'},\n",
       " {'n.name': 'David Morse'},\n",
       " {'n.name': 'Sam Rockwell'},\n",
       " {'n.name': 'Gary Sinise'},\n",
       " {'n.name': 'Patricia Clarkson'},\n",
       " {'n.name': 'Frank Darabont'},\n",
       " {'n.name': 'Frank Langella'},\n",
       " {'n.name': 'Michael Sheen'},\n",
       " {'n.name': 'Oliver Platt'},\n",
       " {'n.name': 'Danny DeVito'},\n",
       " {'n.name': 'John C. Reilly'},\n",
       " {'n.name': 'Ed Harris'},\n",
       " {'n.name': 'Bill Paxton'},\n",
       " {'n.name': 'Philip Seymour Hoffman'},\n",
       " {'n.name': 'Jan de Bont'},\n",
       " {'n.name': 'Robert Zemeckis'},\n",
       " {'n.name': 'Milos Forman'},\n",
       " {'n.name': 'Diane Keaton'},\n",
       " {'n.name': 'Nancy Meyers'},\n",
       " {'n.name': 'Chris Columbus'},\n",
       " {'n.name': 'Julia Roberts'},\n",
       " {'n.name': 'Madonna'},\n",
       " {'n.name': 'Geena Davis'},\n",
       " {'n.name': 'Lori Petty'},\n",
       " {'n.name': 'Penny Marshall'},\n",
       " {'n.name': 'Paul Blythe'},\n",
       " {'n.name': 'Angela Scope'},\n",
       " {'n.name': 'Jessica Thompson'},\n",
       " {'n.name': 'James Thompson'},\n",
       " {'n.name': 'Kang-ho Song'},\n",
       " {'n.name': 'Sun-kyun Lee'},\n",
       " {'n.name': 'Yeo-jeong Jo'},\n",
       " {'n.name': 'Woo-sik Choi'},\n",
       " {'n.name': 'So-dam Park'},\n",
       " {'n.name': 'Joaquin Phoenix'},\n",
       " {'n.name': 'Robert De Niro'},\n",
       " {'n.name': 'Zazie Beetz'}]"
      ]
     },
     "execution_count": 12,
     "metadata": {},
     "output_type": "execute_result"
    }
   ],
   "source": [
    "kg.query(get_people)"
   ]
  },
  {
   "cell_type": "code",
   "execution_count": 23,
   "id": "a0560285",
   "metadata": {},
   "outputs": [],
   "source": [
    "count_movies = \"\"\"\n",
    "MATCH (n:Movie) RETURN count(n) AS numberOfMovies\n",
    "\"\"\""
   ]
  },
  {
   "cell_type": "code",
   "execution_count": 24,
   "id": "e296a9cb",
   "metadata": {},
   "outputs": [
    {
     "name": "stdout",
     "output_type": "stream",
     "text": [
      "There are 40 movies in this graph.\n"
     ]
    }
   ],
   "source": [
    "print(f\"There are {kg.query(count_movies)[0]['numberOfMovies']} movies in this graph.\")"
   ]
  },
  {
   "cell_type": "code",
   "execution_count": 13,
   "id": "4af5c800",
   "metadata": {},
   "outputs": [],
   "source": [
    "get_movies = \"\"\"\n",
    "MATCH (n:Movie) RETURN n.title;\n",
    "\"\"\""
   ]
  },
  {
   "cell_type": "code",
   "execution_count": 14,
   "id": "85083221",
   "metadata": {
    "scrolled": true
   },
   "outputs": [
    {
     "data": {
      "text/plain": [
       "[{'n.title': 'The Matrix'},\n",
       " {'n.title': 'The Matrix Reloaded'},\n",
       " {'n.title': 'The Matrix Revolutions'},\n",
       " {'n.title': \"The Devil's Advocate\"},\n",
       " {'n.title': 'A Few Good Men'},\n",
       " {'n.title': 'Top Gun'},\n",
       " {'n.title': 'Jerry Maguire'},\n",
       " {'n.title': 'Stand By Me'},\n",
       " {'n.title': 'As Good as It Gets'},\n",
       " {'n.title': 'What Dreams May Come'},\n",
       " {'n.title': 'Snow Falling on Cedars'},\n",
       " {'n.title': \"You've Got Mail\"},\n",
       " {'n.title': 'Sleepless in Seattle'},\n",
       " {'n.title': 'Joe Versus the Volcano'},\n",
       " {'n.title': 'When Harry Met Sally'},\n",
       " {'n.title': 'That Thing You Do'},\n",
       " {'n.title': 'The Replacements'},\n",
       " {'n.title': 'RescueDawn'},\n",
       " {'n.title': 'The Birdcage'},\n",
       " {'n.title': 'Unforgiven'},\n",
       " {'n.title': 'Johnny Mnemonic'},\n",
       " {'n.title': 'Cloud Atlas'},\n",
       " {'n.title': 'The Da Vinci Code'},\n",
       " {'n.title': 'V for Vendetta'},\n",
       " {'n.title': 'Speed Racer'},\n",
       " {'n.title': 'Ninja Assassin'},\n",
       " {'n.title': 'The Green Mile'},\n",
       " {'n.title': 'Frost/Nixon'},\n",
       " {'n.title': 'Hoffa'},\n",
       " {'n.title': 'Apollo 13'},\n",
       " {'n.title': 'Twister'},\n",
       " {'n.title': 'Cast Away'},\n",
       " {'n.title': \"One Flew Over the Cuckoo's Nest\"},\n",
       " {'n.title': \"Something's Gotta Give\"},\n",
       " {'n.title': 'Bicentennial Man'},\n",
       " {'n.title': \"Charlie Wilson's War\"},\n",
       " {'n.title': 'The Polar Express'},\n",
       " {'n.title': 'A League of Their Own'},\n",
       " {'n.title': 'Parasite'},\n",
       " {'n.title': 'Joker'}]"
      ]
     },
     "execution_count": 14,
     "metadata": {},
     "output_type": "execute_result"
    }
   ],
   "source": [
    "kg.query(get_movies)"
   ]
  },
  {
   "cell_type": "code",
   "execution_count": 26,
   "id": "4b75bcdb",
   "metadata": {},
   "outputs": [
    {
     "data": {
      "text/plain": [
       "[{'person': {'born': 1956, 'name': 'Tom Hanks'}}]"
      ]
     },
     "execution_count": 26,
     "metadata": {},
     "output_type": "execute_result"
    }
   ],
   "source": [
    "# Get info about Tom Hanks\n",
    "cypher = \"\"\"\n",
    "MATCH (person:Person {name:\"Tom Hanks\"}) RETURN person;\n",
    "\"\"\"\n",
    "\n",
    "kg.query(cypher)"
   ]
  },
  {
   "cell_type": "code",
   "execution_count": 28,
   "id": "4769fa4e",
   "metadata": {},
   "outputs": [
    {
     "data": {
      "text/plain": [
       "[{'m': {'tagline': 'Everything is connected',\n",
       "   'title': 'Cloud Atlas',\n",
       "   'released': 2012}}]"
      ]
     },
     "execution_count": 28,
     "metadata": {},
     "output_type": "execute_result"
    }
   ],
   "source": [
    "# Get info about movie called Cloud Atlas\n",
    "cypher = \"\"\"\n",
    "MATCH (m:Movie {title:\"Cloud Atlas\"}) RETURN m;\n",
    "\"\"\"\n",
    "\n",
    "kg.query(cypher)"
   ]
  },
  {
   "cell_type": "code",
   "execution_count": 29,
   "id": "593dca2b",
   "metadata": {},
   "outputs": [
    {
     "data": {
      "text/plain": [
       "[{'m.released': 2012}]"
      ]
     },
     "execution_count": 29,
     "metadata": {},
     "output_type": "execute_result"
    }
   ],
   "source": [
    "# Get released date about movie called Cloud Atlas\n",
    "cypher = \"\"\"\n",
    "MATCH (m:Movie {title:\"Cloud Atlas\"}) RETURN m.released;\n",
    "\"\"\"\n",
    "\n",
    "kg.query(cypher)"
   ]
  },
  {
   "cell_type": "code",
   "execution_count": 30,
   "id": "a2668846",
   "metadata": {},
   "outputs": [
    {
     "data": {
      "text/plain": [
       "[{'cloudAtlas.released': 2012,\n",
       "  'cloudAtlas.tagline': 'Everything is connected'}]"
      ]
     },
     "execution_count": 30,
     "metadata": {},
     "output_type": "execute_result"
    }
   ],
   "source": [
    "# Get released date and tagline about movie called Cloud Atlas\n",
    "cypher = \"\"\"\n",
    "MATCH (cloudAtlas:Movie {title:\"Cloud Atlas\"})\n",
    "RETURN cloudAtlas.released, cloudAtlas.tagline;\n",
    "\"\"\"\n",
    "\n",
    "kg.query(cypher)"
   ]
  },
  {
   "cell_type": "code",
   "execution_count": 32,
   "id": "be49581a",
   "metadata": {},
   "outputs": [
    {
     "data": {
      "text/plain": [
       "[{'nineties.title': 'The Matrix'},\n",
       " {'nineties.title': \"The Devil's Advocate\"},\n",
       " {'nineties.title': 'A Few Good Men'},\n",
       " {'nineties.title': 'As Good as It Gets'},\n",
       " {'nineties.title': 'What Dreams May Come'},\n",
       " {'nineties.title': 'Snow Falling on Cedars'},\n",
       " {'nineties.title': \"You've Got Mail\"},\n",
       " {'nineties.title': 'Sleepless in Seattle'},\n",
       " {'nineties.title': 'Joe Versus the Volcano'},\n",
       " {'nineties.title': 'When Harry Met Sally'},\n",
       " {'nineties.title': 'That Thing You Do'},\n",
       " {'nineties.title': 'The Birdcage'},\n",
       " {'nineties.title': 'Unforgiven'},\n",
       " {'nineties.title': 'Johnny Mnemonic'},\n",
       " {'nineties.title': 'The Green Mile'},\n",
       " {'nineties.title': 'Hoffa'},\n",
       " {'nineties.title': 'Apollo 13'},\n",
       " {'nineties.title': 'Twister'},\n",
       " {'nineties.title': 'Bicentennial Man'},\n",
       " {'nineties.title': 'A League of Their Own'}]"
      ]
     },
     "execution_count": 32,
     "metadata": {},
     "output_type": "execute_result"
    }
   ],
   "source": [
    "# Get titles of movies released in the nineties\n",
    "cypher = \"\"\"\n",
    "MATCH (nineties:Movie)\n",
    "WHERE nineties.released > 1989\n",
    "    AND nineties.released < 2000\n",
    "RETURN nineties.title;\n",
    "\"\"\"\n",
    "\n",
    "kg.query(cypher)"
   ]
  },
  {
   "cell_type": "code",
   "execution_count": 35,
   "id": "3bda286d",
   "metadata": {},
   "outputs": [
    {
     "data": {
      "text/plain": [
       "[{'actor.name': 'Emil Eifrem', 'm.title': 'The Matrix'},\n",
       " {'actor.name': 'Hugo Weaving', 'm.title': 'The Matrix'},\n",
       " {'actor.name': 'Laurence Fishburne', 'm.title': 'The Matrix'},\n",
       " {'actor.name': 'Carrie-Anne Moss', 'm.title': 'The Matrix'},\n",
       " {'actor.name': 'Keanu Reeves', 'm.title': 'The Matrix'},\n",
       " {'actor.name': 'Hugo Weaving', 'm.title': 'The Matrix Reloaded'},\n",
       " {'actor.name': 'Laurence Fishburne', 'm.title': 'The Matrix Reloaded'},\n",
       " {'actor.name': 'Carrie-Anne Moss', 'm.title': 'The Matrix Reloaded'},\n",
       " {'actor.name': 'Keanu Reeves', 'm.title': 'The Matrix Reloaded'},\n",
       " {'actor.name': 'Hugo Weaving', 'm.title': 'The Matrix Revolutions'}]"
      ]
     },
     "execution_count": 35,
     "metadata": {},
     "output_type": "execute_result"
    }
   ],
   "source": [
    "# Get a sample of movies and the actors who acted in them\n",
    "cypher = \"\"\"\n",
    "MATCH (actor:Person)-[:ACTED_IN]->(m:Movie)\n",
    "RETURN actor.name, m.title\n",
    "LIMIT 10;\n",
    "\"\"\"\n",
    "\n",
    "kg.query(cypher)"
   ]
  },
  {
   "cell_type": "code",
   "execution_count": 36,
   "id": "6275feae",
   "metadata": {},
   "outputs": [
    {
     "data": {
      "text/plain": [
       "[{'m.title': \"You've Got Mail\"},\n",
       " {'m.title': 'Apollo 13'},\n",
       " {'m.title': 'Joe Versus the Volcano'},\n",
       " {'m.title': 'That Thing You Do'},\n",
       " {'m.title': 'Cloud Atlas'},\n",
       " {'m.title': 'The Da Vinci Code'},\n",
       " {'m.title': 'Sleepless in Seattle'},\n",
       " {'m.title': 'A League of Their Own'},\n",
       " {'m.title': 'The Green Mile'},\n",
       " {'m.title': \"Charlie Wilson's War\"},\n",
       " {'m.title': 'Cast Away'},\n",
       " {'m.title': 'The Polar Express'}]"
      ]
     },
     "execution_count": 36,
     "metadata": {},
     "output_type": "execute_result"
    }
   ],
   "source": [
    "# Get Tom Hanks movies\n",
    "cypher = \"\"\"\n",
    "MATCH (tomHanks:Person {name:\"Tom Hanks\"})-[:ACTED_IN]->(m:Movie)\n",
    "RETURN m.title;\n",
    "\"\"\"\n",
    "\n",
    "kg.query(cypher)"
   ]
  },
  {
   "cell_type": "code",
   "execution_count": 38,
   "id": "d2ff958b",
   "metadata": {},
   "outputs": [
    {
     "data": {
      "text/plain": [
       "[{'coActor.name': 'Parker Posey', 'm.title': \"You've Got Mail\"},\n",
       " {'coActor.name': 'Greg Kinnear', 'm.title': \"You've Got Mail\"},\n",
       " {'coActor.name': 'Meg Ryan', 'm.title': \"You've Got Mail\"},\n",
       " {'coActor.name': 'Steve Zahn', 'm.title': \"You've Got Mail\"},\n",
       " {'coActor.name': 'Dave Chappelle', 'm.title': \"You've Got Mail\"},\n",
       " {'coActor.name': 'Ed Harris', 'm.title': 'Apollo 13'},\n",
       " {'coActor.name': 'Kevin Bacon', 'm.title': 'Apollo 13'},\n",
       " {'coActor.name': 'Gary Sinise', 'm.title': 'Apollo 13'},\n",
       " {'coActor.name': 'Bill Paxton', 'm.title': 'Apollo 13'},\n",
       " {'coActor.name': 'Nathan Lane', 'm.title': 'Joe Versus the Volcano'},\n",
       " {'coActor.name': 'Meg Ryan', 'm.title': 'Joe Versus the Volcano'},\n",
       " {'coActor.name': 'Liv Tyler', 'm.title': 'That Thing You Do'},\n",
       " {'coActor.name': 'Charlize Theron', 'm.title': 'That Thing You Do'},\n",
       " {'coActor.name': 'Jim Broadbent', 'm.title': 'Cloud Atlas'},\n",
       " {'coActor.name': 'Halle Berry', 'm.title': 'Cloud Atlas'},\n",
       " {'coActor.name': 'Hugo Weaving', 'm.title': 'Cloud Atlas'},\n",
       " {'coActor.name': 'Audrey Tautou', 'm.title': 'The Da Vinci Code'},\n",
       " {'coActor.name': 'Ian McKellen', 'm.title': 'The Da Vinci Code'},\n",
       " {'coActor.name': 'Paul Bettany', 'm.title': 'The Da Vinci Code'},\n",
       " {'coActor.name': 'Meg Ryan', 'm.title': 'Sleepless in Seattle'},\n",
       " {'coActor.name': 'Victor Garber', 'm.title': 'Sleepless in Seattle'},\n",
       " {'coActor.name': 'Bill Pullman', 'm.title': 'Sleepless in Seattle'},\n",
       " {'coActor.name': 'Rita Wilson', 'm.title': 'Sleepless in Seattle'},\n",
       " {'coActor.name': \"Rosie O'Donnell\", 'm.title': 'Sleepless in Seattle'},\n",
       " {'coActor.name': 'Lori Petty', 'm.title': 'A League of Their Own'},\n",
       " {'coActor.name': 'Bill Paxton', 'm.title': 'A League of Their Own'},\n",
       " {'coActor.name': \"Rosie O'Donnell\", 'm.title': 'A League of Their Own'},\n",
       " {'coActor.name': 'Geena Davis', 'm.title': 'A League of Their Own'},\n",
       " {'coActor.name': 'Madonna', 'm.title': 'A League of Their Own'},\n",
       " {'coActor.name': 'Patricia Clarkson', 'm.title': 'The Green Mile'},\n",
       " {'coActor.name': 'Sam Rockwell', 'm.title': 'The Green Mile'},\n",
       " {'coActor.name': 'Gary Sinise', 'm.title': 'The Green Mile'},\n",
       " {'coActor.name': 'David Morse', 'm.title': 'The Green Mile'},\n",
       " {'coActor.name': 'Bonnie Hunt', 'm.title': 'The Green Mile'},\n",
       " {'coActor.name': 'Michael Clarke Duncan', 'm.title': 'The Green Mile'},\n",
       " {'coActor.name': 'James Cromwell', 'm.title': 'The Green Mile'},\n",
       " {'coActor.name': 'Julia Roberts', 'm.title': \"Charlie Wilson's War\"},\n",
       " {'coActor.name': 'Philip Seymour Hoffman', 'm.title': \"Charlie Wilson's War\"},\n",
       " {'coActor.name': 'Helen Hunt', 'm.title': 'Cast Away'}]"
      ]
     },
     "execution_count": 38,
     "metadata": {},
     "output_type": "execute_result"
    }
   ],
   "source": [
    "# Which other people acted in the same movies as Tom Hanks ?\n",
    "cypher = \"\"\"\n",
    "MATCH (tom:Person {name:\"Tom Hanks\"})-[:ACTED_IN]->(m)<-[:ACTED_IN]-(coActor)\n",
    "RETURN coActor.name, m.title\n",
    "\"\"\"\n",
    "\n",
    "kg.query(cypher)"
   ]
  },
  {
   "cell_type": "code",
   "execution_count": 40,
   "id": "9ec0f985",
   "metadata": {},
   "outputs": [
    {
     "data": {
      "text/plain": [
       "[{'emil.name': 'Emil Eifrem', 'm.title': 'The Matrix'}]"
      ]
     },
     "execution_count": 40,
     "metadata": {},
     "output_type": "execute_result"
    }
   ],
   "source": [
    "# Find movies that Emil Eifrem acted in\n",
    "cypher = \"\"\"\n",
    "MATCH (emil:Person {name:\"Emil Eifrem\"})-[actedIn:ACTED_IN]->(m:Movie)\n",
    "RETURN emil.name, m.title\n",
    "\"\"\"\n",
    "\n",
    "kg.query(cypher)"
   ]
  },
  {
   "cell_type": "code",
   "execution_count": 41,
   "id": "7d37f13b",
   "metadata": {},
   "outputs": [
    {
     "data": {
      "text/plain": [
       "[]"
      ]
     },
     "execution_count": 41,
     "metadata": {},
     "output_type": "execute_result"
    }
   ],
   "source": [
    "# Delete the acted in relationships for Emil Eifrem\n",
    "cypher = \"\"\"\n",
    "MATCH (emil:Person {name:\"Emil Eifrem\"})-[actedIn:ACTED_IN]->(m:Movie)\n",
    "DELETE actedIn\n",
    "\"\"\"\n",
    "\n",
    "kg.query(cypher)"
   ]
  },
  {
   "cell_type": "code",
   "execution_count": 44,
   "id": "ac800823",
   "metadata": {},
   "outputs": [
    {
     "data": {
      "text/plain": [
       "[{'andreas': {'name': 'Andreas'}}]"
      ]
     },
     "execution_count": 44,
     "metadata": {},
     "output_type": "execute_result"
    }
   ],
   "source": [
    "# Create a new person called Andreas\n",
    "cypher = \"\"\"\n",
    "CREATE (andreas:Person {name:\"Andreas\"})\n",
    "RETURN andreas\n",
    "\"\"\"\n",
    "\n",
    "kg.query(cypher)"
   ]
  },
  {
   "cell_type": "code",
   "execution_count": 45,
   "id": "64577e61",
   "metadata": {},
   "outputs": [
    {
     "data": {
      "text/plain": [
       "[{'andreas': {'name': 'Andreas'},\n",
       "  'hasRelationship': ({'name': 'Andreas'},\n",
       "   'WORKS_WITH',\n",
       "   {'born': 1978, 'name': 'Emil Eifrem'}),\n",
       "  'emil': {'born': 1978, 'name': 'Emil Eifrem'}}]"
      ]
     },
     "execution_count": 45,
     "metadata": {},
     "output_type": "execute_result"
    }
   ],
   "source": [
    "# Create new relationship between Andreas and Emil\n",
    "cypher = \"\"\"\n",
    "MATCH (andreas:Person {name:\"Andreas\"}), (emil:Person {name:\"Emil Eifrem\"})\n",
    "MERGE (andreas)-[hasRelationship:WORKS_WITH]->(emil)\n",
    "RETURN andreas, hasRelationship, emil\n",
    "\"\"\"\n",
    "\n",
    "kg.query(cypher)"
   ]
  },
  {
   "cell_type": "code",
   "execution_count": 52,
   "id": "7fb5bd06",
   "metadata": {},
   "outputs": [
    {
     "data": {
      "text/plain": [
       "[{'somePerson.name': 'Emil Eifrem'}]"
      ]
     },
     "execution_count": 52,
     "metadata": {},
     "output_type": "execute_result"
    }
   ],
   "source": [
    "# Who does Andreas work with ?\n",
    "cypher = \"\"\"\n",
    "MATCH (andreas:Person {name:\"Andreas\"})-[:WORKS_WITH]->(somePerson)\n",
    "RETURN somePerson.name\n",
    "\"\"\"\n",
    "\n",
    "kg.query(cypher)"
   ]
  },
  {
   "cell_type": "markdown",
   "id": "25436487",
   "metadata": {},
   "source": [
    "### OpenAI api"
   ]
  },
  {
   "cell_type": "code",
   "execution_count": 5,
   "id": "c6159a4c",
   "metadata": {},
   "outputs": [],
   "source": [
    "# Open the file and read the first line\n",
    "with open('openai_api_key.txt', 'r') as file:\n",
    "    # Read the first line and strip any leading/trailing whitespace\n",
    "    openai_api_key = file.readline().strip()\n",
    "\n",
    "# Save the value to the variable OPENAI_API_KEY\n",
    "OPENAI_API_KEY = openai_api_key\n",
    "\n",
    "# Display the extracted API key (optional, for verification)\n",
    "# print(f\"OPENAI_API_KEY: {OPENAI_API_KEY}\")\n"
   ]
  },
  {
   "cell_type": "code",
   "execution_count": 21,
   "id": "a11cffb6",
   "metadata": {},
   "outputs": [],
   "source": [
    "client = OpenAI(api_key=OPENAI_API_KEY)"
   ]
  },
  {
   "cell_type": "markdown",
   "id": "59433158",
   "metadata": {},
   "source": [
    "## Create vector index"
   ]
  },
  {
   "cell_type": "code",
   "execution_count": 81,
   "id": "58010b96",
   "metadata": {},
   "outputs": [
    {
     "data": {
      "text/plain": [
       "[]"
      ]
     },
     "execution_count": 81,
     "metadata": {},
     "output_type": "execute_result"
    }
   ],
   "source": [
    "# Create a vector index called 'movie_tagline_embeddings'on the \n",
    "# embedding representation of the tagline property of each movie 'taglineEmbedding'.\n",
    "# The taglineEmbedding values will generated later by passing the tagline to OpenAI.\n",
    "# nb: note the use of backticks in the OPTIONS section\n",
    "cypher_create_index = \"\"\"\n",
    "CREATE VECTOR INDEX movie_tagline_embeddings IF NOT EXISTS\n",
    "for (m:Movie) ON (m.taglineEmbedding)\n",
    "OPTIONS { indexConfig: {\n",
    "    `vector.dimensions`: 1536,\n",
    "    `vector.similarity_function`: 'cosine'\n",
    "}}\"\"\"\n",
    "\n",
    "kg.query(cypher_create_index)"
   ]
  },
  {
   "cell_type": "code",
   "execution_count": 6,
   "id": "92333f4f",
   "metadata": {},
   "outputs": [
    {
     "data": {
      "text/plain": [
       "[{'id': 3,\n",
       "  'name': 'movie_tagline_embeddings',\n",
       "  'state': 'ONLINE',\n",
       "  'populationPercent': 100.0,\n",
       "  'type': 'VECTOR',\n",
       "  'entityType': 'NODE',\n",
       "  'labelsOrTypes': ['Movie'],\n",
       "  'properties': ['taglineEmbedding'],\n",
       "  'indexProvider': 'vector-2.0',\n",
       "  'owningConstraint': None,\n",
       "  'lastRead': None,\n",
       "  'readCount': 0}]"
      ]
     },
     "execution_count": 6,
     "metadata": {},
     "output_type": "execute_result"
    }
   ],
   "source": [
    "# Check to see what vector indexes exist in the knowledge graph database\n",
    "cypher_inspect_indexes = \"\"\"\n",
    "SHOW VECTOR INDEXES\n",
    "\"\"\"\n",
    "\n",
    "kg.query(cypher_inspect_indexes)"
   ]
  },
  {
   "cell_type": "markdown",
   "id": "0df717df",
   "metadata": {},
   "source": [
    "## Create embeddings and populate the index"
   ]
  },
  {
   "cell_type": "markdown",
   "id": "b1a2da21",
   "metadata": {},
   "source": [
    "Following code not working as the genai plugin only available in\n",
    "Neo4j enterprise edition."
   ]
  },
  {
   "cell_type": "raw",
   "id": "b285ed00",
   "metadata": {},
   "source": [
    "# Now we create the tagline embeddings by calling OpenAI api\n",
    "cypher_generate_embeddings = \"\"\"\n",
    "MATCH (movie:Movie) WHERE movie.tagline IS NOT NULL\n",
    "WITH movie, genai.vector.encode(\n",
    "    movie.tagline,\n",
    "    \"OpenAI\",\n",
    "    {token: $openAiApiKey}\n",
    "    ) AS vector\n",
    "CALL db.create.setNodeVectorProperty(movie, \"taglineEmbedding\", vector)\n",
    "\"\"\"\n",
    "\n",
    "kg.query(\n",
    "    cypher_generate_embeddings,\n",
    "    params={\"openAiApiKey\":OPENAI_API_KEY}\n",
    ")"
   ]
  },
  {
   "cell_type": "markdown",
   "id": "f4d6864e",
   "metadata": {},
   "source": [
    "So let's try to generate the embeddings by calling OpenAI API from Python\n",
    "then write the embeddings back to Neo4j, thereby bypassing the need to use\n",
    "genai plugin."
   ]
  },
  {
   "cell_type": "code",
   "execution_count": 12,
   "id": "2c53d414",
   "metadata": {},
   "outputs": [],
   "source": [
    "# Connect to neo4j database\n",
    "driver = GraphDatabase.driver(neo4j_uri, auth=(neo4j_username, neo4j_password))"
   ]
  },
  {
   "cell_type": "code",
   "execution_count": 16,
   "id": "4200b171",
   "metadata": {},
   "outputs": [],
   "source": [
    "# print(driver)"
   ]
  },
  {
   "cell_type": "code",
   "execution_count": 25,
   "id": "fe6fcc42",
   "metadata": {},
   "outputs": [
    {
     "name": "stderr",
     "output_type": "stream",
     "text": [
      "Received notification from DBMS server: {severity: WARNING} {code: Neo.ClientNotification.Statement.FeatureDeprecationWarning} {category: DEPRECATION} {title: This feature is deprecated and will be removed in future versions.} {description: The query used a deprecated function: `id`.} {position: line: 1, column: 86, offset: 85} for query: 'MATCH (movie:Movie) WHERE movie.tagline IS NOT NULL RETURN movie.tagline AS tagline, id(movie) AS id'\n",
      "Received notification from DBMS server: {severity: WARNING} {code: Neo.ClientNotification.Statement.FeatureDeprecationWarning} {category: DEPRECATION} {title: This feature is deprecated and will be removed in future versions.} {description: The query used a deprecated function: `id`.} {position: line: 1, column: 27, offset: 26} for query: 'MATCH (movie:Movie) WHERE id(movie)=$movie_id SET movie.taglineEmbedding = $embedding'\n",
      "Received notification from DBMS server: {severity: WARNING} {code: Neo.ClientNotification.Statement.FeatureDeprecationWarning} {category: DEPRECATION} {title: This feature is deprecated and will be removed in future versions.} {description: The query used a deprecated function: `id`.} {position: line: 1, column: 27, offset: 26} for query: 'MATCH (movie:Movie) WHERE id(movie)=$movie_id SET movie.taglineEmbedding = $embedding'\n",
      "Received notification from DBMS server: {severity: WARNING} {code: Neo.ClientNotification.Statement.FeatureDeprecationWarning} {category: DEPRECATION} {title: This feature is deprecated and will be removed in future versions.} {description: The query used a deprecated function: `id`.} {position: line: 1, column: 27, offset: 26} for query: 'MATCH (movie:Movie) WHERE id(movie)=$movie_id SET movie.taglineEmbedding = $embedding'\n",
      "Received notification from DBMS server: {severity: WARNING} {code: Neo.ClientNotification.Statement.FeatureDeprecationWarning} {category: DEPRECATION} {title: This feature is deprecated and will be removed in future versions.} {description: The query used a deprecated function: `id`.} {position: line: 1, column: 27, offset: 26} for query: 'MATCH (movie:Movie) WHERE id(movie)=$movie_id SET movie.taglineEmbedding = $embedding'\n",
      "Received notification from DBMS server: {severity: WARNING} {code: Neo.ClientNotification.Statement.FeatureDeprecationWarning} {category: DEPRECATION} {title: This feature is deprecated and will be removed in future versions.} {description: The query used a deprecated function: `id`.} {position: line: 1, column: 27, offset: 26} for query: 'MATCH (movie:Movie) WHERE id(movie)=$movie_id SET movie.taglineEmbedding = $embedding'\n",
      "Received notification from DBMS server: {severity: WARNING} {code: Neo.ClientNotification.Statement.FeatureDeprecationWarning} {category: DEPRECATION} {title: This feature is deprecated and will be removed in future versions.} {description: The query used a deprecated function: `id`.} {position: line: 1, column: 27, offset: 26} for query: 'MATCH (movie:Movie) WHERE id(movie)=$movie_id SET movie.taglineEmbedding = $embedding'\n",
      "Received notification from DBMS server: {severity: WARNING} {code: Neo.ClientNotification.Statement.FeatureDeprecationWarning} {category: DEPRECATION} {title: This feature is deprecated and will be removed in future versions.} {description: The query used a deprecated function: `id`.} {position: line: 1, column: 27, offset: 26} for query: 'MATCH (movie:Movie) WHERE id(movie)=$movie_id SET movie.taglineEmbedding = $embedding'\n",
      "Received notification from DBMS server: {severity: WARNING} {code: Neo.ClientNotification.Statement.FeatureDeprecationWarning} {category: DEPRECATION} {title: This feature is deprecated and will be removed in future versions.} {description: The query used a deprecated function: `id`.} {position: line: 1, column: 27, offset: 26} for query: 'MATCH (movie:Movie) WHERE id(movie)=$movie_id SET movie.taglineEmbedding = $embedding'\n",
      "Received notification from DBMS server: {severity: WARNING} {code: Neo.ClientNotification.Statement.FeatureDeprecationWarning} {category: DEPRECATION} {title: This feature is deprecated and will be removed in future versions.} {description: The query used a deprecated function: `id`.} {position: line: 1, column: 27, offset: 26} for query: 'MATCH (movie:Movie) WHERE id(movie)=$movie_id SET movie.taglineEmbedding = $embedding'\n",
      "Received notification from DBMS server: {severity: WARNING} {code: Neo.ClientNotification.Statement.FeatureDeprecationWarning} {category: DEPRECATION} {title: This feature is deprecated and will be removed in future versions.} {description: The query used a deprecated function: `id`.} {position: line: 1, column: 27, offset: 26} for query: 'MATCH (movie:Movie) WHERE id(movie)=$movie_id SET movie.taglineEmbedding = $embedding'\n",
      "Received notification from DBMS server: {severity: WARNING} {code: Neo.ClientNotification.Statement.FeatureDeprecationWarning} {category: DEPRECATION} {title: This feature is deprecated and will be removed in future versions.} {description: The query used a deprecated function: `id`.} {position: line: 1, column: 27, offset: 26} for query: 'MATCH (movie:Movie) WHERE id(movie)=$movie_id SET movie.taglineEmbedding = $embedding'\n",
      "Received notification from DBMS server: {severity: WARNING} {code: Neo.ClientNotification.Statement.FeatureDeprecationWarning} {category: DEPRECATION} {title: This feature is deprecated and will be removed in future versions.} {description: The query used a deprecated function: `id`.} {position: line: 1, column: 27, offset: 26} for query: 'MATCH (movie:Movie) WHERE id(movie)=$movie_id SET movie.taglineEmbedding = $embedding'\n",
      "Received notification from DBMS server: {severity: WARNING} {code: Neo.ClientNotification.Statement.FeatureDeprecationWarning} {category: DEPRECATION} {title: This feature is deprecated and will be removed in future versions.} {description: The query used a deprecated function: `id`.} {position: line: 1, column: 27, offset: 26} for query: 'MATCH (movie:Movie) WHERE id(movie)=$movie_id SET movie.taglineEmbedding = $embedding'\n",
      "Received notification from DBMS server: {severity: WARNING} {code: Neo.ClientNotification.Statement.FeatureDeprecationWarning} {category: DEPRECATION} {title: This feature is deprecated and will be removed in future versions.} {description: The query used a deprecated function: `id`.} {position: line: 1, column: 27, offset: 26} for query: 'MATCH (movie:Movie) WHERE id(movie)=$movie_id SET movie.taglineEmbedding = $embedding'\n",
      "Received notification from DBMS server: {severity: WARNING} {code: Neo.ClientNotification.Statement.FeatureDeprecationWarning} {category: DEPRECATION} {title: This feature is deprecated and will be removed in future versions.} {description: The query used a deprecated function: `id`.} {position: line: 1, column: 27, offset: 26} for query: 'MATCH (movie:Movie) WHERE id(movie)=$movie_id SET movie.taglineEmbedding = $embedding'\n",
      "Received notification from DBMS server: {severity: WARNING} {code: Neo.ClientNotification.Statement.FeatureDeprecationWarning} {category: DEPRECATION} {title: This feature is deprecated and will be removed in future versions.} {description: The query used a deprecated function: `id`.} {position: line: 1, column: 27, offset: 26} for query: 'MATCH (movie:Movie) WHERE id(movie)=$movie_id SET movie.taglineEmbedding = $embedding'\n",
      "Received notification from DBMS server: {severity: WARNING} {code: Neo.ClientNotification.Statement.FeatureDeprecationWarning} {category: DEPRECATION} {title: This feature is deprecated and will be removed in future versions.} {description: The query used a deprecated function: `id`.} {position: line: 1, column: 27, offset: 26} for query: 'MATCH (movie:Movie) WHERE id(movie)=$movie_id SET movie.taglineEmbedding = $embedding'\n",
      "Received notification from DBMS server: {severity: WARNING} {code: Neo.ClientNotification.Statement.FeatureDeprecationWarning} {category: DEPRECATION} {title: This feature is deprecated and will be removed in future versions.} {description: The query used a deprecated function: `id`.} {position: line: 1, column: 27, offset: 26} for query: 'MATCH (movie:Movie) WHERE id(movie)=$movie_id SET movie.taglineEmbedding = $embedding'\n",
      "Received notification from DBMS server: {severity: WARNING} {code: Neo.ClientNotification.Statement.FeatureDeprecationWarning} {category: DEPRECATION} {title: This feature is deprecated and will be removed in future versions.} {description: The query used a deprecated function: `id`.} {position: line: 1, column: 27, offset: 26} for query: 'MATCH (movie:Movie) WHERE id(movie)=$movie_id SET movie.taglineEmbedding = $embedding'\n"
     ]
    },
    {
     "name": "stderr",
     "output_type": "stream",
     "text": [
      "Received notification from DBMS server: {severity: WARNING} {code: Neo.ClientNotification.Statement.FeatureDeprecationWarning} {category: DEPRECATION} {title: This feature is deprecated and will be removed in future versions.} {description: The query used a deprecated function: `id`.} {position: line: 1, column: 27, offset: 26} for query: 'MATCH (movie:Movie) WHERE id(movie)=$movie_id SET movie.taglineEmbedding = $embedding'\n",
      "Received notification from DBMS server: {severity: WARNING} {code: Neo.ClientNotification.Statement.FeatureDeprecationWarning} {category: DEPRECATION} {title: This feature is deprecated and will be removed in future versions.} {description: The query used a deprecated function: `id`.} {position: line: 1, column: 27, offset: 26} for query: 'MATCH (movie:Movie) WHERE id(movie)=$movie_id SET movie.taglineEmbedding = $embedding'\n",
      "Received notification from DBMS server: {severity: WARNING} {code: Neo.ClientNotification.Statement.FeatureDeprecationWarning} {category: DEPRECATION} {title: This feature is deprecated and will be removed in future versions.} {description: The query used a deprecated function: `id`.} {position: line: 1, column: 27, offset: 26} for query: 'MATCH (movie:Movie) WHERE id(movie)=$movie_id SET movie.taglineEmbedding = $embedding'\n",
      "Received notification from DBMS server: {severity: WARNING} {code: Neo.ClientNotification.Statement.FeatureDeprecationWarning} {category: DEPRECATION} {title: This feature is deprecated and will be removed in future versions.} {description: The query used a deprecated function: `id`.} {position: line: 1, column: 27, offset: 26} for query: 'MATCH (movie:Movie) WHERE id(movie)=$movie_id SET movie.taglineEmbedding = $embedding'\n",
      "Received notification from DBMS server: {severity: WARNING} {code: Neo.ClientNotification.Statement.FeatureDeprecationWarning} {category: DEPRECATION} {title: This feature is deprecated and will be removed in future versions.} {description: The query used a deprecated function: `id`.} {position: line: 1, column: 27, offset: 26} for query: 'MATCH (movie:Movie) WHERE id(movie)=$movie_id SET movie.taglineEmbedding = $embedding'\n",
      "Received notification from DBMS server: {severity: WARNING} {code: Neo.ClientNotification.Statement.FeatureDeprecationWarning} {category: DEPRECATION} {title: This feature is deprecated and will be removed in future versions.} {description: The query used a deprecated function: `id`.} {position: line: 1, column: 27, offset: 26} for query: 'MATCH (movie:Movie) WHERE id(movie)=$movie_id SET movie.taglineEmbedding = $embedding'\n",
      "Received notification from DBMS server: {severity: WARNING} {code: Neo.ClientNotification.Statement.FeatureDeprecationWarning} {category: DEPRECATION} {title: This feature is deprecated and will be removed in future versions.} {description: The query used a deprecated function: `id`.} {position: line: 1, column: 27, offset: 26} for query: 'MATCH (movie:Movie) WHERE id(movie)=$movie_id SET movie.taglineEmbedding = $embedding'\n",
      "Received notification from DBMS server: {severity: WARNING} {code: Neo.ClientNotification.Statement.FeatureDeprecationWarning} {category: DEPRECATION} {title: This feature is deprecated and will be removed in future versions.} {description: The query used a deprecated function: `id`.} {position: line: 1, column: 27, offset: 26} for query: 'MATCH (movie:Movie) WHERE id(movie)=$movie_id SET movie.taglineEmbedding = $embedding'\n",
      "Received notification from DBMS server: {severity: WARNING} {code: Neo.ClientNotification.Statement.FeatureDeprecationWarning} {category: DEPRECATION} {title: This feature is deprecated and will be removed in future versions.} {description: The query used a deprecated function: `id`.} {position: line: 1, column: 27, offset: 26} for query: 'MATCH (movie:Movie) WHERE id(movie)=$movie_id SET movie.taglineEmbedding = $embedding'\n",
      "Received notification from DBMS server: {severity: WARNING} {code: Neo.ClientNotification.Statement.FeatureDeprecationWarning} {category: DEPRECATION} {title: This feature is deprecated and will be removed in future versions.} {description: The query used a deprecated function: `id`.} {position: line: 1, column: 27, offset: 26} for query: 'MATCH (movie:Movie) WHERE id(movie)=$movie_id SET movie.taglineEmbedding = $embedding'\n",
      "Received notification from DBMS server: {severity: WARNING} {code: Neo.ClientNotification.Statement.FeatureDeprecationWarning} {category: DEPRECATION} {title: This feature is deprecated and will be removed in future versions.} {description: The query used a deprecated function: `id`.} {position: line: 1, column: 27, offset: 26} for query: 'MATCH (movie:Movie) WHERE id(movie)=$movie_id SET movie.taglineEmbedding = $embedding'\n",
      "Received notification from DBMS server: {severity: WARNING} {code: Neo.ClientNotification.Statement.FeatureDeprecationWarning} {category: DEPRECATION} {title: This feature is deprecated and will be removed in future versions.} {description: The query used a deprecated function: `id`.} {position: line: 1, column: 27, offset: 26} for query: 'MATCH (movie:Movie) WHERE id(movie)=$movie_id SET movie.taglineEmbedding = $embedding'\n",
      "Received notification from DBMS server: {severity: WARNING} {code: Neo.ClientNotification.Statement.FeatureDeprecationWarning} {category: DEPRECATION} {title: This feature is deprecated and will be removed in future versions.} {description: The query used a deprecated function: `id`.} {position: line: 1, column: 27, offset: 26} for query: 'MATCH (movie:Movie) WHERE id(movie)=$movie_id SET movie.taglineEmbedding = $embedding'\n",
      "Received notification from DBMS server: {severity: WARNING} {code: Neo.ClientNotification.Statement.FeatureDeprecationWarning} {category: DEPRECATION} {title: This feature is deprecated and will be removed in future versions.} {description: The query used a deprecated function: `id`.} {position: line: 1, column: 27, offset: 26} for query: 'MATCH (movie:Movie) WHERE id(movie)=$movie_id SET movie.taglineEmbedding = $embedding'\n",
      "Received notification from DBMS server: {severity: WARNING} {code: Neo.ClientNotification.Statement.FeatureDeprecationWarning} {category: DEPRECATION} {title: This feature is deprecated and will be removed in future versions.} {description: The query used a deprecated function: `id`.} {position: line: 1, column: 27, offset: 26} for query: 'MATCH (movie:Movie) WHERE id(movie)=$movie_id SET movie.taglineEmbedding = $embedding'\n",
      "Received notification from DBMS server: {severity: WARNING} {code: Neo.ClientNotification.Statement.FeatureDeprecationWarning} {category: DEPRECATION} {title: This feature is deprecated and will be removed in future versions.} {description: The query used a deprecated function: `id`.} {position: line: 1, column: 27, offset: 26} for query: 'MATCH (movie:Movie) WHERE id(movie)=$movie_id SET movie.taglineEmbedding = $embedding'\n",
      "Received notification from DBMS server: {severity: WARNING} {code: Neo.ClientNotification.Statement.FeatureDeprecationWarning} {category: DEPRECATION} {title: This feature is deprecated and will be removed in future versions.} {description: The query used a deprecated function: `id`.} {position: line: 1, column: 27, offset: 26} for query: 'MATCH (movie:Movie) WHERE id(movie)=$movie_id SET movie.taglineEmbedding = $embedding'\n",
      "Received notification from DBMS server: {severity: WARNING} {code: Neo.ClientNotification.Statement.FeatureDeprecationWarning} {category: DEPRECATION} {title: This feature is deprecated and will be removed in future versions.} {description: The query used a deprecated function: `id`.} {position: line: 1, column: 27, offset: 26} for query: 'MATCH (movie:Movie) WHERE id(movie)=$movie_id SET movie.taglineEmbedding = $embedding'\n",
      "Received notification from DBMS server: {severity: WARNING} {code: Neo.ClientNotification.Statement.FeatureDeprecationWarning} {category: DEPRECATION} {title: This feature is deprecated and will be removed in future versions.} {description: The query used a deprecated function: `id`.} {position: line: 1, column: 27, offset: 26} for query: 'MATCH (movie:Movie) WHERE id(movie)=$movie_id SET movie.taglineEmbedding = $embedding'\n",
      "Received notification from DBMS server: {severity: WARNING} {code: Neo.ClientNotification.Statement.FeatureDeprecationWarning} {category: DEPRECATION} {title: This feature is deprecated and will be removed in future versions.} {description: The query used a deprecated function: `id`.} {position: line: 1, column: 27, offset: 26} for query: 'MATCH (movie:Movie) WHERE id(movie)=$movie_id SET movie.taglineEmbedding = $embedding'\n"
     ]
    }
   ],
   "source": [
    "# Function to get movies with taglines from the database\n",
    "def fetch_movies_with_taglines(tx):\n",
    "    result = tx.run(\"MATCH (movie:Movie) WHERE movie.tagline IS NOT NULL RETURN movie.tagline AS tagline, id(movie) AS id\")\n",
    "    return [(record[\"tagline\"], record[\"id\"]) for record in result]\n",
    "\n",
    "\n",
    "# Function to write the embedding from openai back to neo4j movie node\n",
    "def update_movie_embedding(tx, movie_id, embedding):\n",
    "    # tx.run(\"MATCH (movie:Movie {id: $id}) SET movie.taglineEmbedding = $embedding\", id=movie_id, embedding=embedding)\n",
    "    tx.run(\"MATCH (movie:Movie) WHERE id(movie)=$movie_id SET movie.taglineEmbedding = $embedding\", movie_id=movie_id, embedding=embedding)\n",
    "    \n",
    "# Run the process to:\n",
    "# 1) Fetch movie taglines\n",
    "# 2) Call openai to get the embedding\n",
    "# 3) Write the embedding back to node in neo4j\n",
    "with driver.session() as session:\n",
    "    movies = session.read_transaction(fetch_movies_with_taglines)\n",
    "    \n",
    "    for tagline, movie_id in movies:\n",
    "        # response = openai.Embedding.create(input=tagline, model=\"text-embedding-ada-002\")\n",
    "        response = client.embeddings.create(input=tagline, model=\"text-embedding-3-small\")\n",
    "        # embedding = response['data'][0]['embedding']\n",
    "        embedding = response.data[0].embedding\n",
    "        session.write_transaction(update_movie_embedding, movie_id, embedding)\n",
    "    \n",
    "driver.close()"
   ]
  },
  {
   "cell_type": "code",
   "execution_count": 26,
   "id": "13c7a149",
   "metadata": {},
   "outputs": [],
   "source": [
    "# Inspect a sample embedding\n",
    "\n",
    "cypher_example_embedding = \"\"\"\n",
    "MATCH (m:Movie)\n",
    "WHERE m.tagline IS NOT NULL\n",
    "RETURN m.tagline, m.taglineEmbedding\n",
    "LIMIT 1\n",
    "\"\"\"\n",
    "\n",
    "result = kg.query(cypher_example_embedding)"
   ]
  },
  {
   "cell_type": "code",
   "execution_count": 28,
   "id": "f0593000",
   "metadata": {},
   "outputs": [
    {
     "data": {
      "text/plain": [
       "'Welcome to the Real World'"
      ]
     },
     "execution_count": 28,
     "metadata": {},
     "output_type": "execute_result"
    }
   ],
   "source": [
    "result[0][\"m.tagline\"]"
   ]
  },
  {
   "cell_type": "code",
   "execution_count": 29,
   "id": "a8509d22",
   "metadata": {},
   "outputs": [
    {
     "data": {
      "text/plain": [
       "[0.04398856684565544,\n",
       " -0.0010325410403311253,\n",
       " 0.007483473047614098,\n",
       " 0.0713852047920227,\n",
       " 0.015836454927921295,\n",
       " -0.019285978749394417,\n",
       " -0.02694050222635269,\n",
       " 0.016948284581303596,\n",
       " -0.03574961796402931,\n",
       " 0.027995316311717033]"
      ]
     },
     "execution_count": 29,
     "metadata": {},
     "output_type": "execute_result"
    }
   ],
   "source": [
    "result[0][\"m.taglineEmbedding\"][:10]"
   ]
  },
  {
   "cell_type": "code",
   "execution_count": 30,
   "id": "a817bbe7",
   "metadata": {},
   "outputs": [
    {
     "data": {
      "text/plain": [
       "1536"
      ]
     },
     "execution_count": 30,
     "metadata": {},
     "output_type": "execute_result"
    }
   ],
   "source": [
    "len(result[0][\"m.taglineEmbedding\"])"
   ]
  },
  {
   "cell_type": "markdown",
   "id": "f3eeee95",
   "metadata": {},
   "source": [
    "## Vector similarity search using the taglineEmbeddings"
   ]
  },
  {
   "cell_type": "code",
   "execution_count": 32,
   "id": "78611d44",
   "metadata": {},
   "outputs": [],
   "source": [
    "question = \"What movies are about love ?\""
   ]
  },
  {
   "cell_type": "code",
   "execution_count": 33,
   "id": "689e5854",
   "metadata": {},
   "outputs": [],
   "source": [
    "# Get embedding of the question by calling OpenAI api\n",
    "response = client.embeddings.create(input=question, model=\"text-embedding-3-small\")\n",
    "question_embedding = response.data[0].embedding"
   ]
  },
  {
   "cell_type": "code",
   "execution_count": 36,
   "id": "e81f171b",
   "metadata": {},
   "outputs": [
    {
     "data": {
      "text/plain": [
       "[{'movie.title': 'Joe Versus the Volcano',\n",
       "  'movie.tagline': 'A story of love, lava and burning desire.',\n",
       "  'score': 0.6843096017837524},\n",
       " {'movie.title': 'Snow Falling on Cedars',\n",
       "  'movie.tagline': 'First loves last. Forever.',\n",
       "  'score': 0.6754798889160156},\n",
       " {'movie.title': 'Twister',\n",
       "  'movie.tagline': \"Don't Breathe. Don't Look Back.\",\n",
       "  'score': 0.6463618278503418},\n",
       " {'movie.title': 'When Harry Met Sally',\n",
       "  'movie.tagline': 'At odds in life... in love on-line.',\n",
       "  'score': 0.6293200850486755},\n",
       " {'movie.title': \"You've Got Mail\",\n",
       "  'movie.tagline': 'At odds in life... in love on-line.',\n",
       "  'score': 0.6293200850486755}]"
      ]
     },
     "execution_count": 36,
     "metadata": {},
     "output_type": "execute_result"
    }
   ],
   "source": [
    "# Perform the similarity search and return the top k matches\n",
    "\n",
    "cypher_similarity = \"\"\"\n",
    "CALL db.index.vector.queryNodes(\n",
    "    'movie_tagline_embeddings',\n",
    "    $top_k,\n",
    "    $question_embedding\n",
    "    ) YIELD node AS movie, score\n",
    "RETURN movie.title, movie.tagline, score\n",
    "\"\"\"\n",
    "\n",
    "kg.query(\n",
    "    cypher_similarity,\n",
    "    params={\"top_k\": 5,\n",
    "           \"question_embedding\": question_embedding\n",
    "           })\n"
   ]
  },
  {
   "cell_type": "code",
   "execution_count": null,
   "id": "4755105f",
   "metadata": {},
   "outputs": [],
   "source": []
  }
 ],
 "metadata": {
  "kernelspec": {
   "display_name": "Python 3 (ipykernel)",
   "language": "python",
   "name": "python3"
  },
  "language_info": {
   "codemirror_mode": {
    "name": "ipython",
    "version": 3
   },
   "file_extension": ".py",
   "mimetype": "text/x-python",
   "name": "python",
   "nbconvert_exporter": "python",
   "pygments_lexer": "ipython3",
   "version": "3.11.6"
  }
 },
 "nbformat": 4,
 "nbformat_minor": 5
}
