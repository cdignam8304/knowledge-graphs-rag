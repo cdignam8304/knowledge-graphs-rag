{
 "cells": [
  {
   "cell_type": "markdown",
   "id": "92896b7b",
   "metadata": {},
   "source": [
    "## Libraries"
   ]
  },
  {
   "cell_type": "code",
   "execution_count": 1,
   "id": "c989f494",
   "metadata": {},
   "outputs": [],
   "source": [
    "from dotenv import load_dotenv\n",
    "import os\n",
    "\n",
    "from langchain_community.graphs import Neo4jGraph\n",
    "\n",
    "import warnings\n",
    "warnings.filterwarnings('ignore')"
   ]
  },
  {
   "cell_type": "markdown",
   "id": "41357e07",
   "metadata": {},
   "source": [
    "## Connect to resources"
   ]
  },
  {
   "cell_type": "markdown",
   "id": "11f1228f",
   "metadata": {},
   "source": [
    "### Neo4j"
   ]
  },
  {
   "cell_type": "code",
   "execution_count": 15,
   "id": "fb1504fc",
   "metadata": {},
   "outputs": [],
   "source": [
    "# Open the file and read the lines\n",
    "with open('neo4j_connection_details.txt', 'r') as file:\n",
    "    lines = file.readlines()\n",
    "\n",
    "# Initialize variables\n",
    "neo4j_uri = \"\"\n",
    "neo4j_username = \"\"\n",
    "neo4j_password = \"\"\n",
    "neo4j_database=\"\"\n",
    "\n",
    "# Process each line to extract the values\n",
    "for line in lines:\n",
    "    # Remove any leading/trailing whitespace\n",
    "    line = line.strip()\n",
    "    if line.startswith(\"NEO4J_URI\"):\n",
    "        # Extract the URI\n",
    "        neo4j_uri = line.split('=')[1].strip().strip('\"')\n",
    "    elif line.startswith(\"NEO4J_USERNAME\"):\n",
    "        # Extract the username\n",
    "        neo4j_username = line.split('=')[1].strip().strip('\"')\n",
    "    elif line.startswith(\"NEO4J_PASSWORD\"):\n",
    "        # Extract the password\n",
    "        neo4j_password = line.split('=')[1].strip().strip('\"')\n",
    "    # Open the file and read the lines\n",
    "with open('neo4j_connection_details.txt', 'r') as file:\n",
    "    lines = file.readlines()\n",
    "\n",
    "# Initialize variables\n",
    "neo4j_uri = \"\"\n",
    "neo4j_username = \"\"\n",
    "neo4j_password = \"\"\n",
    "neo4j_database=\"\"\n",
    "\n",
    "# Process each line to extract the values\n",
    "for line in lines:\n",
    "    # Remove any leading/trailing whitespace\n",
    "    line = line.strip()\n",
    "    if line.startswith(\"NEO4J_URI\"):\n",
    "        # Extract the URI\n",
    "        neo4j_uri = line.split('=')[1].strip().strip('\"')\n",
    "    elif line.startswith(\"NEO4J_USERNAME\"):\n",
    "        # Extract the username\n",
    "        neo4j_username = line.split('=')[1].strip().strip('\"')\n",
    "    elif line.startswith(\"NEO4J_PASSWORD\"):\n",
    "        # Extract the password\n",
    "        neo4j_password = line.split('=')[1].strip().strip('\"')\n",
    "    elif line.startswith(\"NEO4J_DATABASE\"):\n",
    "        # Extract the password\n",
    "        neo4j_database = line.split('=')[1].strip().strip('\"')\n",
    "\n",
    "# Display the extracted values\n",
    "# print(f\"NEO4J_URI: {neo4j_uri}\")\n",
    "# print(f\"NEO4J_USERNAME: {neo4j_username}\")\n",
    "# print(f\"NEO4J_PASSWORD: {neo4j_password}\")\n",
    "# print(f\"NEO4J_DATABASE: {neo4j_database}\")\n",
    "\n"
   ]
  },
  {
   "cell_type": "code",
   "execution_count": 3,
   "id": "1e85ecc0",
   "metadata": {},
   "outputs": [],
   "source": [
    "# Connect to the knowledge graph in Neo4j\n",
    "kg = Neo4jGraph(\n",
    "    url=neo4j_uri,\n",
    "    username=neo4j_username,\n",
    "    password=neo4j_password,\n",
    "    database=neo4j_database,\n",
    ")"
   ]
  },
  {
   "cell_type": "code",
   "execution_count": 4,
   "id": "931a16ac",
   "metadata": {},
   "outputs": [
    {
     "name": "stdout",
     "output_type": "stream",
     "text": [
      "<langchain_community.graphs.neo4j_graph.Neo4jGraph object at 0x111b0e9d0>\n"
     ]
    }
   ],
   "source": [
    "print(kg)"
   ]
  },
  {
   "cell_type": "code",
   "execution_count": 16,
   "id": "8c57c60d",
   "metadata": {},
   "outputs": [
    {
     "name": "stdout",
     "output_type": "stream",
     "text": [
      "Node properties:\n",
      "Movie {title: STRING, tagline: STRING, released: INTEGER}\n",
      "Person {born: INTEGER, name: STRING}\n",
      "Relationship properties:\n",
      "ACTED_IN {roles: LIST}\n",
      "REVIEWED {summary: STRING, rating: INTEGER}\n",
      "The relationships:\n",
      "(:Person)-[:ACTED_IN]->(:Movie)\n",
      "(:Person)-[:WROTE]->(:Movie)\n",
      "(:Person)-[:DIRECTED]->(:Movie)\n",
      "(:Person)-[:PRODUCED]->(:Movie)\n",
      "(:Person)-[:FOLLOWS]->(:Person)\n",
      "(:Person)-[:REVIEWED]->(:Movie)\n"
     ]
    }
   ],
   "source": [
    "print(kg.schema)"
   ]
  },
  {
   "cell_type": "code",
   "execution_count": 19,
   "id": "d821bb2f",
   "metadata": {},
   "outputs": [],
   "source": [
    "count_people = \"\"\"\n",
    "MATCH (n:Person) RETURN count(n) AS numberOfPeople\n",
    "\"\"\""
   ]
  },
  {
   "cell_type": "code",
   "execution_count": 20,
   "id": "0da4265c",
   "metadata": {},
   "outputs": [
    {
     "data": {
      "text/plain": [
       "[{'numberOfPeople': 139}]"
      ]
     },
     "execution_count": 20,
     "metadata": {},
     "output_type": "execute_result"
    }
   ],
   "source": [
    "kg.query(count_people)"
   ]
  },
  {
   "cell_type": "code",
   "execution_count": 22,
   "id": "e0e8e518",
   "metadata": {},
   "outputs": [
    {
     "name": "stdout",
     "output_type": "stream",
     "text": [
      "There are 139 people in this graph.\n"
     ]
    }
   ],
   "source": [
    "print(f\"There are {kg.query(count_people)[0]['numberOfPeople']} people in this graph.\")"
   ]
  },
  {
   "cell_type": "code",
   "execution_count": 11,
   "id": "d37acb59",
   "metadata": {},
   "outputs": [],
   "source": [
    "get_people = \"\"\"\n",
    "MATCH (n:Person) RETURN n.name;\n",
    "\"\"\""
   ]
  },
  {
   "cell_type": "code",
   "execution_count": 12,
   "id": "40593287",
   "metadata": {
    "scrolled": true
   },
   "outputs": [
    {
     "data": {
      "text/plain": [
       "[{'n.name': 'Keanu Reeves'},\n",
       " {'n.name': 'Carrie-Anne Moss'},\n",
       " {'n.name': 'Laurence Fishburne'},\n",
       " {'n.name': 'Hugo Weaving'},\n",
       " {'n.name': 'Andy Wachowski'},\n",
       " {'n.name': 'Lana Wachowski'},\n",
       " {'n.name': 'Joel Silver'},\n",
       " {'n.name': 'Emil Eifrem'},\n",
       " {'n.name': 'Charlize Theron'},\n",
       " {'n.name': 'Al Pacino'},\n",
       " {'n.name': 'Taylor Hackford'},\n",
       " {'n.name': 'Tom Cruise'},\n",
       " {'n.name': 'Jack Nicholson'},\n",
       " {'n.name': 'Demi Moore'},\n",
       " {'n.name': 'Kevin Bacon'},\n",
       " {'n.name': 'Kiefer Sutherland'},\n",
       " {'n.name': 'Noah Wyle'},\n",
       " {'n.name': 'Cuba Gooding Jr.'},\n",
       " {'n.name': 'Kevin Pollak'},\n",
       " {'n.name': 'J.T. Walsh'},\n",
       " {'n.name': 'James Marshall'},\n",
       " {'n.name': 'Christopher Guest'},\n",
       " {'n.name': 'Rob Reiner'},\n",
       " {'n.name': 'Aaron Sorkin'},\n",
       " {'n.name': 'Kelly McGillis'},\n",
       " {'n.name': 'Val Kilmer'},\n",
       " {'n.name': 'Anthony Edwards'},\n",
       " {'n.name': 'Tom Skerritt'},\n",
       " {'n.name': 'Meg Ryan'},\n",
       " {'n.name': 'Tony Scott'},\n",
       " {'n.name': 'Jim Cash'},\n",
       " {'n.name': 'Renee Zellweger'},\n",
       " {'n.name': 'Kelly Preston'},\n",
       " {'n.name': \"Jerry O'Connell\"},\n",
       " {'n.name': 'Jay Mohr'},\n",
       " {'n.name': 'Bonnie Hunt'},\n",
       " {'n.name': 'Regina King'},\n",
       " {'n.name': 'Jonathan Lipnicki'},\n",
       " {'n.name': 'Cameron Crowe'},\n",
       " {'n.name': 'River Phoenix'},\n",
       " {'n.name': 'Corey Feldman'},\n",
       " {'n.name': 'Wil Wheaton'},\n",
       " {'n.name': 'John Cusack'},\n",
       " {'n.name': 'Marshall Bell'},\n",
       " {'n.name': 'Helen Hunt'},\n",
       " {'n.name': 'Greg Kinnear'},\n",
       " {'n.name': 'James L. Brooks'},\n",
       " {'n.name': 'Annabella Sciorra'},\n",
       " {'n.name': 'Max von Sydow'},\n",
       " {'n.name': 'Werner Herzog'},\n",
       " {'n.name': 'Robin Williams'},\n",
       " {'n.name': 'Vincent Ward'},\n",
       " {'n.name': 'Ethan Hawke'},\n",
       " {'n.name': 'Rick Yune'},\n",
       " {'n.name': 'James Cromwell'},\n",
       " {'n.name': 'Scott Hicks'},\n",
       " {'n.name': 'Parker Posey'},\n",
       " {'n.name': 'Dave Chappelle'},\n",
       " {'n.name': 'Steve Zahn'},\n",
       " {'n.name': 'Tom Hanks'},\n",
       " {'n.name': 'Nora Ephron'},\n",
       " {'n.name': 'Rita Wilson'},\n",
       " {'n.name': 'Bill Pullman'},\n",
       " {'n.name': 'Victor Garber'},\n",
       " {'n.name': \"Rosie O'Donnell\"},\n",
       " {'n.name': 'John Patrick Stanley'},\n",
       " {'n.name': 'Nathan Lane'},\n",
       " {'n.name': 'Billy Crystal'},\n",
       " {'n.name': 'Carrie Fisher'},\n",
       " {'n.name': 'Bruno Kirby'},\n",
       " {'n.name': 'Liv Tyler'},\n",
       " {'n.name': 'Brooke Langton'},\n",
       " {'n.name': 'Gene Hackman'},\n",
       " {'n.name': 'Orlando Jones'},\n",
       " {'n.name': 'Howard Deutch'},\n",
       " {'n.name': 'Christian Bale'},\n",
       " {'n.name': 'Zach Grenier'},\n",
       " {'n.name': 'Mike Nichols'},\n",
       " {'n.name': 'Richard Harris'},\n",
       " {'n.name': 'Clint Eastwood'},\n",
       " {'n.name': 'Takeshi Kitano'},\n",
       " {'n.name': 'Dina Meyer'},\n",
       " {'n.name': 'Ice-T'},\n",
       " {'n.name': 'Robert Longo'},\n",
       " {'n.name': 'Halle Berry'},\n",
       " {'n.name': 'Jim Broadbent'},\n",
       " {'n.name': 'Tom Tykwer'},\n",
       " {'n.name': 'Ian McKellen'},\n",
       " {'n.name': 'Audrey Tautou'},\n",
       " {'n.name': 'Paul Bettany'},\n",
       " {'n.name': 'Ron Howard'},\n",
       " {'n.name': 'Natalie Portman'},\n",
       " {'n.name': 'Stephen Rea'},\n",
       " {'n.name': 'John Hurt'},\n",
       " {'n.name': 'Ben Miles'},\n",
       " {'n.name': 'Emile Hirsch'},\n",
       " {'n.name': 'John Goodman'},\n",
       " {'n.name': 'Susan Sarandon'},\n",
       " {'n.name': 'Matthew Fox'},\n",
       " {'n.name': 'Christina Ricci'},\n",
       " {'n.name': 'Rain'},\n",
       " {'n.name': 'Naomie Harris'},\n",
       " {'n.name': 'Michael Clarke Duncan'},\n",
       " {'n.name': 'David Morse'},\n",
       " {'n.name': 'Sam Rockwell'},\n",
       " {'n.name': 'Gary Sinise'},\n",
       " {'n.name': 'Patricia Clarkson'},\n",
       " {'n.name': 'Frank Darabont'},\n",
       " {'n.name': 'Frank Langella'},\n",
       " {'n.name': 'Michael Sheen'},\n",
       " {'n.name': 'Oliver Platt'},\n",
       " {'n.name': 'Danny DeVito'},\n",
       " {'n.name': 'John C. Reilly'},\n",
       " {'n.name': 'Ed Harris'},\n",
       " {'n.name': 'Bill Paxton'},\n",
       " {'n.name': 'Philip Seymour Hoffman'},\n",
       " {'n.name': 'Jan de Bont'},\n",
       " {'n.name': 'Robert Zemeckis'},\n",
       " {'n.name': 'Milos Forman'},\n",
       " {'n.name': 'Diane Keaton'},\n",
       " {'n.name': 'Nancy Meyers'},\n",
       " {'n.name': 'Chris Columbus'},\n",
       " {'n.name': 'Julia Roberts'},\n",
       " {'n.name': 'Madonna'},\n",
       " {'n.name': 'Geena Davis'},\n",
       " {'n.name': 'Lori Petty'},\n",
       " {'n.name': 'Penny Marshall'},\n",
       " {'n.name': 'Paul Blythe'},\n",
       " {'n.name': 'Angela Scope'},\n",
       " {'n.name': 'Jessica Thompson'},\n",
       " {'n.name': 'James Thompson'},\n",
       " {'n.name': 'Kang-ho Song'},\n",
       " {'n.name': 'Sun-kyun Lee'},\n",
       " {'n.name': 'Yeo-jeong Jo'},\n",
       " {'n.name': 'Woo-sik Choi'},\n",
       " {'n.name': 'So-dam Park'},\n",
       " {'n.name': 'Joaquin Phoenix'},\n",
       " {'n.name': 'Robert De Niro'},\n",
       " {'n.name': 'Zazie Beetz'}]"
      ]
     },
     "execution_count": 12,
     "metadata": {},
     "output_type": "execute_result"
    }
   ],
   "source": [
    "kg.query(get_people)"
   ]
  },
  {
   "cell_type": "code",
   "execution_count": 23,
   "id": "aad46dde",
   "metadata": {},
   "outputs": [],
   "source": [
    "count_movies = \"\"\"\n",
    "MATCH (n:Movie) RETURN count(n) AS numberOfMovies\n",
    "\"\"\""
   ]
  },
  {
   "cell_type": "code",
   "execution_count": 24,
   "id": "d67db3d0",
   "metadata": {},
   "outputs": [
    {
     "name": "stdout",
     "output_type": "stream",
     "text": [
      "There are 40 movies in this graph.\n"
     ]
    }
   ],
   "source": [
    "print(f\"There are {kg.query(count_movies)[0]['numberOfMovies']} movies in this graph.\")"
   ]
  },
  {
   "cell_type": "code",
   "execution_count": 13,
   "id": "dec00753",
   "metadata": {},
   "outputs": [],
   "source": [
    "get_movies = \"\"\"\n",
    "MATCH (n:Movie) RETURN n.title;\n",
    "\"\"\""
   ]
  },
  {
   "cell_type": "code",
   "execution_count": 14,
   "id": "8906fd52",
   "metadata": {
    "scrolled": true
   },
   "outputs": [
    {
     "data": {
      "text/plain": [
       "[{'n.title': 'The Matrix'},\n",
       " {'n.title': 'The Matrix Reloaded'},\n",
       " {'n.title': 'The Matrix Revolutions'},\n",
       " {'n.title': \"The Devil's Advocate\"},\n",
       " {'n.title': 'A Few Good Men'},\n",
       " {'n.title': 'Top Gun'},\n",
       " {'n.title': 'Jerry Maguire'},\n",
       " {'n.title': 'Stand By Me'},\n",
       " {'n.title': 'As Good as It Gets'},\n",
       " {'n.title': 'What Dreams May Come'},\n",
       " {'n.title': 'Snow Falling on Cedars'},\n",
       " {'n.title': \"You've Got Mail\"},\n",
       " {'n.title': 'Sleepless in Seattle'},\n",
       " {'n.title': 'Joe Versus the Volcano'},\n",
       " {'n.title': 'When Harry Met Sally'},\n",
       " {'n.title': 'That Thing You Do'},\n",
       " {'n.title': 'The Replacements'},\n",
       " {'n.title': 'RescueDawn'},\n",
       " {'n.title': 'The Birdcage'},\n",
       " {'n.title': 'Unforgiven'},\n",
       " {'n.title': 'Johnny Mnemonic'},\n",
       " {'n.title': 'Cloud Atlas'},\n",
       " {'n.title': 'The Da Vinci Code'},\n",
       " {'n.title': 'V for Vendetta'},\n",
       " {'n.title': 'Speed Racer'},\n",
       " {'n.title': 'Ninja Assassin'},\n",
       " {'n.title': 'The Green Mile'},\n",
       " {'n.title': 'Frost/Nixon'},\n",
       " {'n.title': 'Hoffa'},\n",
       " {'n.title': 'Apollo 13'},\n",
       " {'n.title': 'Twister'},\n",
       " {'n.title': 'Cast Away'},\n",
       " {'n.title': \"One Flew Over the Cuckoo's Nest\"},\n",
       " {'n.title': \"Something's Gotta Give\"},\n",
       " {'n.title': 'Bicentennial Man'},\n",
       " {'n.title': \"Charlie Wilson's War\"},\n",
       " {'n.title': 'The Polar Express'},\n",
       " {'n.title': 'A League of Their Own'},\n",
       " {'n.title': 'Parasite'},\n",
       " {'n.title': 'Joker'}]"
      ]
     },
     "execution_count": 14,
     "metadata": {},
     "output_type": "execute_result"
    }
   ],
   "source": [
    "kg.query(get_movies)"
   ]
  },
  {
   "cell_type": "code",
   "execution_count": 26,
   "id": "6e275afb",
   "metadata": {},
   "outputs": [
    {
     "data": {
      "text/plain": [
       "[{'person': {'born': 1956, 'name': 'Tom Hanks'}}]"
      ]
     },
     "execution_count": 26,
     "metadata": {},
     "output_type": "execute_result"
    }
   ],
   "source": [
    "# Get info about Tom Hanks\n",
    "cypher = \"\"\"\n",
    "MATCH (person:Person {name:\"Tom Hanks\"}) RETURN person;\n",
    "\"\"\"\n",
    "\n",
    "kg.query(cypher)"
   ]
  },
  {
   "cell_type": "code",
   "execution_count": 28,
   "id": "05d00e6d",
   "metadata": {},
   "outputs": [
    {
     "data": {
      "text/plain": [
       "[{'m': {'tagline': 'Everything is connected',\n",
       "   'title': 'Cloud Atlas',\n",
       "   'released': 2012}}]"
      ]
     },
     "execution_count": 28,
     "metadata": {},
     "output_type": "execute_result"
    }
   ],
   "source": [
    "# Get info about movie called Cloud Atlas\n",
    "cypher = \"\"\"\n",
    "MATCH (m:Movie {title:\"Cloud Atlas\"}) RETURN m;\n",
    "\"\"\"\n",
    "\n",
    "kg.query(cypher)"
   ]
  },
  {
   "cell_type": "code",
   "execution_count": 29,
   "id": "bb62b220",
   "metadata": {},
   "outputs": [
    {
     "data": {
      "text/plain": [
       "[{'m.released': 2012}]"
      ]
     },
     "execution_count": 29,
     "metadata": {},
     "output_type": "execute_result"
    }
   ],
   "source": [
    "# Get released date about movie called Cloud Atlas\n",
    "cypher = \"\"\"\n",
    "MATCH (m:Movie {title:\"Cloud Atlas\"}) RETURN m.released;\n",
    "\"\"\"\n",
    "\n",
    "kg.query(cypher)"
   ]
  },
  {
   "cell_type": "code",
   "execution_count": 30,
   "id": "8f46df53",
   "metadata": {},
   "outputs": [
    {
     "data": {
      "text/plain": [
       "[{'cloudAtlas.released': 2012,\n",
       "  'cloudAtlas.tagline': 'Everything is connected'}]"
      ]
     },
     "execution_count": 30,
     "metadata": {},
     "output_type": "execute_result"
    }
   ],
   "source": [
    "# Get released date and tagline about movie called Cloud Atlas\n",
    "cypher = \"\"\"\n",
    "MATCH (cloudAtlas:Movie {title:\"Cloud Atlas\"})\n",
    "RETURN cloudAtlas.released, cloudAtlas.tagline;\n",
    "\"\"\"\n",
    "\n",
    "kg.query(cypher)"
   ]
  },
  {
   "cell_type": "code",
   "execution_count": 32,
   "id": "5671ca8b",
   "metadata": {},
   "outputs": [
    {
     "data": {
      "text/plain": [
       "[{'nineties.title': 'The Matrix'},\n",
       " {'nineties.title': \"The Devil's Advocate\"},\n",
       " {'nineties.title': 'A Few Good Men'},\n",
       " {'nineties.title': 'As Good as It Gets'},\n",
       " {'nineties.title': 'What Dreams May Come'},\n",
       " {'nineties.title': 'Snow Falling on Cedars'},\n",
       " {'nineties.title': \"You've Got Mail\"},\n",
       " {'nineties.title': 'Sleepless in Seattle'},\n",
       " {'nineties.title': 'Joe Versus the Volcano'},\n",
       " {'nineties.title': 'When Harry Met Sally'},\n",
       " {'nineties.title': 'That Thing You Do'},\n",
       " {'nineties.title': 'The Birdcage'},\n",
       " {'nineties.title': 'Unforgiven'},\n",
       " {'nineties.title': 'Johnny Mnemonic'},\n",
       " {'nineties.title': 'The Green Mile'},\n",
       " {'nineties.title': 'Hoffa'},\n",
       " {'nineties.title': 'Apollo 13'},\n",
       " {'nineties.title': 'Twister'},\n",
       " {'nineties.title': 'Bicentennial Man'},\n",
       " {'nineties.title': 'A League of Their Own'}]"
      ]
     },
     "execution_count": 32,
     "metadata": {},
     "output_type": "execute_result"
    }
   ],
   "source": [
    "# Get titles of movies released in the nineties\n",
    "cypher = \"\"\"\n",
    "MATCH (nineties:Movie)\n",
    "WHERE nineties.released > 1989\n",
    "    AND nineties.released < 2000\n",
    "RETURN nineties.title;\n",
    "\"\"\"\n",
    "\n",
    "kg.query(cypher)"
   ]
  },
  {
   "cell_type": "code",
   "execution_count": 35,
   "id": "a34bffda",
   "metadata": {},
   "outputs": [
    {
     "data": {
      "text/plain": [
       "[{'actor.name': 'Emil Eifrem', 'm.title': 'The Matrix'},\n",
       " {'actor.name': 'Hugo Weaving', 'm.title': 'The Matrix'},\n",
       " {'actor.name': 'Laurence Fishburne', 'm.title': 'The Matrix'},\n",
       " {'actor.name': 'Carrie-Anne Moss', 'm.title': 'The Matrix'},\n",
       " {'actor.name': 'Keanu Reeves', 'm.title': 'The Matrix'},\n",
       " {'actor.name': 'Hugo Weaving', 'm.title': 'The Matrix Reloaded'},\n",
       " {'actor.name': 'Laurence Fishburne', 'm.title': 'The Matrix Reloaded'},\n",
       " {'actor.name': 'Carrie-Anne Moss', 'm.title': 'The Matrix Reloaded'},\n",
       " {'actor.name': 'Keanu Reeves', 'm.title': 'The Matrix Reloaded'},\n",
       " {'actor.name': 'Hugo Weaving', 'm.title': 'The Matrix Revolutions'}]"
      ]
     },
     "execution_count": 35,
     "metadata": {},
     "output_type": "execute_result"
    }
   ],
   "source": [
    "# Get a sample of movies and the actors who acted in them\n",
    "cypher = \"\"\"\n",
    "MATCH (actor:Person)-[:ACTED_IN]->(m:Movie)\n",
    "RETURN actor.name, m.title\n",
    "LIMIT 10;\n",
    "\"\"\"\n",
    "\n",
    "kg.query(cypher)"
   ]
  },
  {
   "cell_type": "code",
   "execution_count": 36,
   "id": "7387202f",
   "metadata": {},
   "outputs": [
    {
     "data": {
      "text/plain": [
       "[{'m.title': \"You've Got Mail\"},\n",
       " {'m.title': 'Apollo 13'},\n",
       " {'m.title': 'Joe Versus the Volcano'},\n",
       " {'m.title': 'That Thing You Do'},\n",
       " {'m.title': 'Cloud Atlas'},\n",
       " {'m.title': 'The Da Vinci Code'},\n",
       " {'m.title': 'Sleepless in Seattle'},\n",
       " {'m.title': 'A League of Their Own'},\n",
       " {'m.title': 'The Green Mile'},\n",
       " {'m.title': \"Charlie Wilson's War\"},\n",
       " {'m.title': 'Cast Away'},\n",
       " {'m.title': 'The Polar Express'}]"
      ]
     },
     "execution_count": 36,
     "metadata": {},
     "output_type": "execute_result"
    }
   ],
   "source": [
    "# Get Tom Hanks movies\n",
    "cypher = \"\"\"\n",
    "MATCH (tomHanks:Person {name:\"Tom Hanks\"})-[:ACTED_IN]->(m:Movie)\n",
    "RETURN m.title;\n",
    "\"\"\"\n",
    "\n",
    "kg.query(cypher)"
   ]
  },
  {
   "cell_type": "code",
   "execution_count": 38,
   "id": "6d71078b",
   "metadata": {},
   "outputs": [
    {
     "data": {
      "text/plain": [
       "[{'coActor.name': 'Parker Posey', 'm.title': \"You've Got Mail\"},\n",
       " {'coActor.name': 'Greg Kinnear', 'm.title': \"You've Got Mail\"},\n",
       " {'coActor.name': 'Meg Ryan', 'm.title': \"You've Got Mail\"},\n",
       " {'coActor.name': 'Steve Zahn', 'm.title': \"You've Got Mail\"},\n",
       " {'coActor.name': 'Dave Chappelle', 'm.title': \"You've Got Mail\"},\n",
       " {'coActor.name': 'Ed Harris', 'm.title': 'Apollo 13'},\n",
       " {'coActor.name': 'Kevin Bacon', 'm.title': 'Apollo 13'},\n",
       " {'coActor.name': 'Gary Sinise', 'm.title': 'Apollo 13'},\n",
       " {'coActor.name': 'Bill Paxton', 'm.title': 'Apollo 13'},\n",
       " {'coActor.name': 'Nathan Lane', 'm.title': 'Joe Versus the Volcano'},\n",
       " {'coActor.name': 'Meg Ryan', 'm.title': 'Joe Versus the Volcano'},\n",
       " {'coActor.name': 'Liv Tyler', 'm.title': 'That Thing You Do'},\n",
       " {'coActor.name': 'Charlize Theron', 'm.title': 'That Thing You Do'},\n",
       " {'coActor.name': 'Jim Broadbent', 'm.title': 'Cloud Atlas'},\n",
       " {'coActor.name': 'Halle Berry', 'm.title': 'Cloud Atlas'},\n",
       " {'coActor.name': 'Hugo Weaving', 'm.title': 'Cloud Atlas'},\n",
       " {'coActor.name': 'Audrey Tautou', 'm.title': 'The Da Vinci Code'},\n",
       " {'coActor.name': 'Ian McKellen', 'm.title': 'The Da Vinci Code'},\n",
       " {'coActor.name': 'Paul Bettany', 'm.title': 'The Da Vinci Code'},\n",
       " {'coActor.name': 'Meg Ryan', 'm.title': 'Sleepless in Seattle'},\n",
       " {'coActor.name': 'Victor Garber', 'm.title': 'Sleepless in Seattle'},\n",
       " {'coActor.name': 'Bill Pullman', 'm.title': 'Sleepless in Seattle'},\n",
       " {'coActor.name': 'Rita Wilson', 'm.title': 'Sleepless in Seattle'},\n",
       " {'coActor.name': \"Rosie O'Donnell\", 'm.title': 'Sleepless in Seattle'},\n",
       " {'coActor.name': 'Lori Petty', 'm.title': 'A League of Their Own'},\n",
       " {'coActor.name': 'Bill Paxton', 'm.title': 'A League of Their Own'},\n",
       " {'coActor.name': \"Rosie O'Donnell\", 'm.title': 'A League of Their Own'},\n",
       " {'coActor.name': 'Geena Davis', 'm.title': 'A League of Their Own'},\n",
       " {'coActor.name': 'Madonna', 'm.title': 'A League of Their Own'},\n",
       " {'coActor.name': 'Patricia Clarkson', 'm.title': 'The Green Mile'},\n",
       " {'coActor.name': 'Sam Rockwell', 'm.title': 'The Green Mile'},\n",
       " {'coActor.name': 'Gary Sinise', 'm.title': 'The Green Mile'},\n",
       " {'coActor.name': 'David Morse', 'm.title': 'The Green Mile'},\n",
       " {'coActor.name': 'Bonnie Hunt', 'm.title': 'The Green Mile'},\n",
       " {'coActor.name': 'Michael Clarke Duncan', 'm.title': 'The Green Mile'},\n",
       " {'coActor.name': 'James Cromwell', 'm.title': 'The Green Mile'},\n",
       " {'coActor.name': 'Julia Roberts', 'm.title': \"Charlie Wilson's War\"},\n",
       " {'coActor.name': 'Philip Seymour Hoffman', 'm.title': \"Charlie Wilson's War\"},\n",
       " {'coActor.name': 'Helen Hunt', 'm.title': 'Cast Away'}]"
      ]
     },
     "execution_count": 38,
     "metadata": {},
     "output_type": "execute_result"
    }
   ],
   "source": [
    "# Which other people acted in the same movies as Tom Hanks ?\n",
    "cypher = \"\"\"\n",
    "MATCH (tom:Person {name:\"Tom Hanks\"})-[:ACTED_IN]->(m)<-[:ACTED_IN]-(coActor)\n",
    "RETURN coActor.name, m.title\n",
    "\"\"\"\n",
    "\n",
    "kg.query(cypher)"
   ]
  },
  {
   "cell_type": "code",
   "execution_count": 40,
   "id": "1221bb67",
   "metadata": {},
   "outputs": [
    {
     "data": {
      "text/plain": [
       "[{'emil.name': 'Emil Eifrem', 'm.title': 'The Matrix'}]"
      ]
     },
     "execution_count": 40,
     "metadata": {},
     "output_type": "execute_result"
    }
   ],
   "source": [
    "# Find movies that Emil Eifrem acted in\n",
    "cypher = \"\"\"\n",
    "MATCH (emil:Person {name:\"Emil Eifrem\"})-[actedIn:ACTED_IN]->(m:Movie)\n",
    "RETURN emil.name, m.title\n",
    "\"\"\"\n",
    "\n",
    "kg.query(cypher)"
   ]
  },
  {
   "cell_type": "code",
   "execution_count": 41,
   "id": "7e780758",
   "metadata": {},
   "outputs": [
    {
     "data": {
      "text/plain": [
       "[]"
      ]
     },
     "execution_count": 41,
     "metadata": {},
     "output_type": "execute_result"
    }
   ],
   "source": [
    "# Delete the acted in relationships for Emil Eifrem\n",
    "cypher = \"\"\"\n",
    "MATCH (emil:Person {name:\"Emil Eifrem\"})-[actedIn:ACTED_IN]->(m:Movie)\n",
    "DELETE actedIn\n",
    "\"\"\"\n",
    "\n",
    "kg.query(cypher)"
   ]
  },
  {
   "cell_type": "code",
   "execution_count": 44,
   "id": "b579f0c6",
   "metadata": {},
   "outputs": [
    {
     "data": {
      "text/plain": [
       "[{'andreas': {'name': 'Andreas'}}]"
      ]
     },
     "execution_count": 44,
     "metadata": {},
     "output_type": "execute_result"
    }
   ],
   "source": [
    "# Create a new person called Andreas\n",
    "cypher = \"\"\"\n",
    "CREATE (andreas:Person {name:\"Andreas\"})\n",
    "RETURN andreas\n",
    "\"\"\"\n",
    "\n",
    "kg.query(cypher)"
   ]
  },
  {
   "cell_type": "code",
   "execution_count": 45,
   "id": "608c70db",
   "metadata": {},
   "outputs": [
    {
     "data": {
      "text/plain": [
       "[{'andreas': {'name': 'Andreas'},\n",
       "  'hasRelationship': ({'name': 'Andreas'},\n",
       "   'WORKS_WITH',\n",
       "   {'born': 1978, 'name': 'Emil Eifrem'}),\n",
       "  'emil': {'born': 1978, 'name': 'Emil Eifrem'}}]"
      ]
     },
     "execution_count": 45,
     "metadata": {},
     "output_type": "execute_result"
    }
   ],
   "source": [
    "# Create new relationship between Andreas and Emil\n",
    "cypher = \"\"\"\n",
    "MATCH (andreas:Person {name:\"Andreas\"}), (emil:Person {name:\"Emil Eifrem\"})\n",
    "MERGE (andreas)-[hasRelationship:WORKS_WITH]->(emil)\n",
    "RETURN andreas, hasRelationship, emil\n",
    "\"\"\"\n",
    "\n",
    "kg.query(cypher)"
   ]
  },
  {
   "cell_type": "code",
   "execution_count": 52,
   "id": "90ca3fff",
   "metadata": {},
   "outputs": [
    {
     "data": {
      "text/plain": [
       "[{'somePerson.name': 'Emil Eifrem'}]"
      ]
     },
     "execution_count": 52,
     "metadata": {},
     "output_type": "execute_result"
    }
   ],
   "source": [
    "# Who does Andreas work with ?\n",
    "cypher = \"\"\"\n",
    "MATCH (andreas:Person {name:\"Andreas\"})-[:WORKS_WITH]->(somePerson)\n",
    "RETURN somePerson.name\n",
    "\"\"\"\n",
    "\n",
    "kg.query(cypher)"
   ]
  },
  {
   "cell_type": "markdown",
   "id": "25436487",
   "metadata": {},
   "source": [
    "### OpenAI api"
   ]
  },
  {
   "cell_type": "code",
   "execution_count": 54,
   "id": "c6159a4c",
   "metadata": {},
   "outputs": [],
   "source": [
    "# Open the file and read the first line\n",
    "with open('openai_api_key.txt', 'r') as file:\n",
    "    # Read the first line and strip any leading/trailing whitespace\n",
    "    openai_api_key = file.readline().strip()\n",
    "\n",
    "# Save the value to the variable OPENAI_API_KEY\n",
    "OPENAI_API_KEY = openai_api_key\n",
    "\n",
    "# Display the extracted API key (optional, for verification)\n",
    "# print(f\"OPENAI_API_KEY: {OPENAI_API_KEY}\")\n"
   ]
  },
  {
   "cell_type": "code",
   "execution_count": null,
   "id": "22ce2588",
   "metadata": {},
   "outputs": [],
   "source": []
  },
  {
   "cell_type": "code",
   "execution_count": null,
   "id": "3960c7b3",
   "metadata": {},
   "outputs": [],
   "source": []
  }
 ],
 "metadata": {
  "kernelspec": {
   "display_name": "Python 3 (ipykernel)",
   "language": "python",
   "name": "python3"
  },
  "language_info": {
   "codemirror_mode": {
    "name": "ipython",
    "version": 3
   },
   "file_extension": ".py",
   "mimetype": "text/x-python",
   "name": "python",
   "nbconvert_exporter": "python",
   "pygments_lexer": "ipython3",
   "version": "3.11.6"
  }
 },
 "nbformat": 4,
 "nbformat_minor": 5
}
